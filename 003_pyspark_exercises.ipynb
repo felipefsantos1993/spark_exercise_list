{
 "cells": [
  {
   "cell_type": "markdown",
   "id": "88995c26",
   "metadata": {},
   "source": [
    "# PySpark — Lista de Exercícios (115+)\n",
    "\n",
    "Este notebook contém 115 exercícios organizados por nível (Básico, Intermediário, Avançado). Cada exercício traz um enunciado e um código inicial para você completar e rodar no seu ambiente (Databricks, local, EMR etc.).\n",
    "\n",
    "> Instruções: Para cada exercício, siga o enunciado, complete o código e execute a célula. Comentários e dicas estão incluídos em cada bloco de código."
   ]
  },
  {
   "cell_type": "markdown",
   "id": "40860564",
   "metadata": {},
   "source": [
    "---\n",
    "\n",
    "## 🟦 Seção: Básico\n",
    "\n"
   ]
  },
  {
   "cell_type": "markdown",
   "id": "7c7aacf2",
   "metadata": {},
   "source": [
    "### Exercício 1: Instalar e configurar o PySpark no ambiente local.\n",
    "\n",
    "**Descrição:** Objetivo: Instalar e configurar o PySpark no ambiente local.\n",
    "\n",
    "Instruções: Implemente o código usando PySpark, seguindo boas práticas.\n",
    "\n",
    "**Starter code:**"
   ]
  },
  {
   "cell_type": "code",
   "execution_count": null,
   "id": "4f3fbbe0",
   "metadata": {},
   "outputs": [],
   "source": [
    "# Código inicial (comente e complete)\n",
    "\n",
    "from pyspark.sql import SparkSession\n",
    "from pyspark.sql import functions as F\n",
    "\n",
    "# TODO: completar\n"
   ]
  },
  {
   "cell_type": "markdown",
   "id": "67888ded",
   "metadata": {},
   "source": [
    "### Exercício 2: Criar uma SparkSession simples.\n",
    "\n",
    "**Descrição:** Objetivo: Criar uma SparkSession simples.\n",
    "\n",
    "Instruções: Implemente o código usando PySpark, seguindo boas práticas.\n",
    "\n",
    "**Starter code:**"
   ]
  },
  {
   "cell_type": "code",
   "execution_count": null,
   "id": "685c72f8",
   "metadata": {},
   "outputs": [],
   "source": [
    "# Código inicial (comente e complete)\n",
    "\n",
    "from pyspark.sql import SparkSession\n",
    "from pyspark.sql import functions as F\n",
    "\n",
    "# TODO: completar\n"
   ]
  },
  {
   "cell_type": "markdown",
   "id": "0b745d0d",
   "metadata": {},
   "source": [
    "### Exercício 3: Ler um arquivo CSV local e exibir os primeiros registros.\n",
    "\n",
    "**Descrição:** Objetivo: Ler um arquivo CSV local e exibir os primeiros registros.\n",
    "\n",
    "Instruções: Implemente o código usando PySpark, seguindo boas práticas.\n",
    "\n",
    "**Starter code:**"
   ]
  },
  {
   "cell_type": "code",
   "execution_count": null,
   "id": "255eb904",
   "metadata": {},
   "outputs": [],
   "source": [
    "# Código inicial (comente e complete)\n",
    "\n",
    "from pyspark.sql import SparkSession\n",
    "from pyspark.sql import functions as F\n",
    "\n",
    "# TODO: completar\n"
   ]
  },
  {
   "cell_type": "markdown",
   "id": "e4995707",
   "metadata": {},
   "source": [
    "### Exercício 4: Ler um arquivo Parquet e mostrar o schema.\n",
    "\n",
    "**Descrição:** Objetivo: Ler um arquivo Parquet e mostrar o schema.\n",
    "\n",
    "Instruções: Implemente o código usando PySpark, seguindo boas práticas.\n",
    "\n",
    "**Starter code:**"
   ]
  },
  {
   "cell_type": "code",
   "execution_count": null,
   "id": "1e9564c0",
   "metadata": {},
   "outputs": [],
   "source": [
    "# Código inicial (comente e complete)\n",
    "\n",
    "from pyspark.sql import SparkSession\n",
    "from pyspark.sql import functions as F\n",
    "\n",
    "# TODO: completar\n"
   ]
  },
  {
   "cell_type": "markdown",
   "id": "ef20b341",
   "metadata": {},
   "source": [
    "### Exercício 5: Criar um DataFrame manualmente a partir de uma lista de tuplas.\n",
    "\n",
    "**Descrição:** Objetivo: Criar um DataFrame manualmente a partir de uma lista de tuplas.\n",
    "\n",
    "Instruções: Implemente o código usando PySpark, seguindo boas práticas.\n",
    "\n",
    "**Starter code:**"
   ]
  },
  {
   "cell_type": "code",
   "execution_count": null,
   "id": "126c7de8",
   "metadata": {},
   "outputs": [],
   "source": [
    "# Código inicial (comente e complete)\n",
    "\n",
    "from pyspark.sql import SparkSession\n",
    "from pyspark.sql import functions as F\n",
    "\n",
    "# TODO: completar\n"
   ]
  },
  {
   "cell_type": "markdown",
   "id": "6c992df4",
   "metadata": {},
   "source": [
    "### Exercício 6: Definir o schema manualmente ao criar um DataFrame.\n",
    "\n",
    "**Descrição:** Objetivo: Definir o schema manualmente ao criar um DataFrame.\n",
    "\n",
    "Instruções: Implemente o código usando PySpark, seguindo boas práticas.\n",
    "\n",
    "**Starter code:**"
   ]
  },
  {
   "cell_type": "code",
   "execution_count": null,
   "id": "ea36aa0c",
   "metadata": {},
   "outputs": [],
   "source": [
    "# Código inicial (comente e complete)\n",
    "\n",
    "from pyspark.sql import SparkSession\n",
    "from pyspark.sql import functions as F\n",
    "\n",
    "# TODO: completar\n"
   ]
  },
  {
   "cell_type": "markdown",
   "id": "dd7910a8",
   "metadata": {},
   "source": [
    "### Exercício 7: Mostrar o número total de linhas de um DataFrame (count).\n",
    "\n",
    "**Descrição:** Objetivo: Mostrar o número total de linhas de um DataFrame (count).\n",
    "\n",
    "Instruções: Implemente o código usando PySpark, seguindo boas práticas.\n",
    "\n",
    "**Starter code:**"
   ]
  },
  {
   "cell_type": "code",
   "execution_count": null,
   "id": "86d21a45",
   "metadata": {},
   "outputs": [],
   "source": [
    "# Código inicial (comente e complete)\n",
    "\n",
    "from pyspark.sql import SparkSession\n",
    "from pyspark.sql import functions as F\n",
    "\n",
    "# TODO: completar\n"
   ]
  },
  {
   "cell_type": "markdown",
   "id": "f242fded",
   "metadata": {},
   "source": [
    "### Exercício 8: Selecionar colunas específicas (select).\n",
    "\n",
    "**Descrição:** Objetivo: Selecionar colunas específicas (select).\n",
    "\n",
    "Instruções: Implemente o código usando PySpark, seguindo boas práticas.\n",
    "\n",
    "**Starter code:**"
   ]
  },
  {
   "cell_type": "code",
   "execution_count": null,
   "id": "9fc54f9d",
   "metadata": {},
   "outputs": [],
   "source": [
    "# Código inicial (comente e complete)\n",
    "\n",
    "from pyspark.sql import SparkSession\n",
    "from pyspark.sql import functions as F\n",
    "\n",
    "# TODO: completar\n"
   ]
  },
  {
   "cell_type": "markdown",
   "id": "d8c72af7",
   "metadata": {},
   "source": [
    "### Exercício 9: Renomear colunas.\n",
    "\n",
    "**Descrição:** Objetivo: Renomear colunas.\n",
    "\n",
    "Instruções: Implemente o código usando PySpark, seguindo boas práticas.\n",
    "\n",
    "**Starter code:**"
   ]
  },
  {
   "cell_type": "code",
   "execution_count": null,
   "id": "72c33e2c",
   "metadata": {},
   "outputs": [],
   "source": [
    "# Código inicial (comente e complete)\n",
    "\n",
    "from pyspark.sql import SparkSession\n",
    "from pyspark.sql import functions as F\n",
    "\n",
    "# TODO: completar\n"
   ]
  },
  {
   "cell_type": "markdown",
   "id": "2ec98f75",
   "metadata": {},
   "source": [
    "### Exercício 10: Filtrar linhas com valores específicos (filter).\n",
    "\n",
    "**Descrição:** Objetivo: Filtrar linhas com valores específicos (filter).\n",
    "\n",
    "Instruções: Implemente o código usando PySpark, seguindo boas práticas.\n",
    "\n",
    "**Starter code:**"
   ]
  },
  {
   "cell_type": "code",
   "execution_count": null,
   "id": "b96e03f2",
   "metadata": {},
   "outputs": [],
   "source": [
    "# Código inicial (comente e complete)\n",
    "\n",
    "from pyspark.sql import SparkSession\n",
    "from pyspark.sql import functions as F\n",
    "\n",
    "# TODO: completar\n"
   ]
  },
  {
   "cell_type": "markdown",
   "id": "eacea404",
   "metadata": {},
   "source": [
    "### Exercício 11: Usar operadores lógicos (and, or, not) em filtros.\n",
    "\n",
    "**Descrição:** Objetivo: Usar operadores lógicos (and, or, not) em filtros.\n",
    "\n",
    "Instruções: Implemente o código usando PySpark, seguindo boas práticas.\n",
    "\n",
    "**Starter code:**"
   ]
  },
  {
   "cell_type": "code",
   "execution_count": null,
   "id": "1a3f65ea",
   "metadata": {},
   "outputs": [],
   "source": [
    "# Código inicial (comente e complete)\n",
    "\n",
    "from pyspark.sql import SparkSession\n",
    "from pyspark.sql import functions as F\n",
    "\n",
    "# TODO: completar\n"
   ]
  },
  {
   "cell_type": "markdown",
   "id": "3c3a201e",
   "metadata": {},
   "source": [
    "### Exercício 12: Ordenar dados (orderBy).\n",
    "\n",
    "**Descrição:** Objetivo: Ordenar dados (orderBy).\n",
    "\n",
    "Instruções: Implemente o código usando PySpark, seguindo boas práticas.\n",
    "\n",
    "**Starter code:**"
   ]
  },
  {
   "cell_type": "code",
   "execution_count": null,
   "id": "554f8606",
   "metadata": {},
   "outputs": [],
   "source": [
    "# Código inicial (comente e complete)\n",
    "\n",
    "from pyspark.sql import SparkSession\n",
    "from pyspark.sql import functions as F\n",
    "\n",
    "# TODO: completar\n"
   ]
  },
  {
   "cell_type": "markdown",
   "id": "1611dab2",
   "metadata": {},
   "source": [
    "### Exercício 13: Criar colunas derivadas (withColumn).\n",
    "\n",
    "**Descrição:** Objetivo: Criar colunas derivadas (withColumn).\n",
    "\n",
    "Instruções: Implemente o código usando PySpark, seguindo boas práticas.\n",
    "\n",
    "**Starter code:**"
   ]
  },
  {
   "cell_type": "code",
   "execution_count": null,
   "id": "cc351166",
   "metadata": {},
   "outputs": [],
   "source": [
    "# Código inicial (comente e complete)\n",
    "\n",
    "from pyspark.sql import SparkSession\n",
    "from pyspark.sql import functions as F\n",
    "\n",
    "# TODO: completar\n"
   ]
  },
  {
   "cell_type": "markdown",
   "id": "440b2255",
   "metadata": {},
   "source": [
    "### Exercício 14: Remover colunas (drop).\n",
    "\n",
    "**Descrição:** Objetivo: Remover colunas (drop).\n",
    "\n",
    "Instruções: Implemente o código usando PySpark, seguindo boas práticas.\n",
    "\n",
    "**Starter code:**"
   ]
  },
  {
   "cell_type": "code",
   "execution_count": null,
   "id": "d781b465",
   "metadata": {},
   "outputs": [],
   "source": [
    "# Código inicial (comente e complete)\n",
    "\n",
    "from pyspark.sql import SparkSession\n",
    "from pyspark.sql import functions as F\n",
    "\n",
    "# TODO: completar\n"
   ]
  },
  {
   "cell_type": "markdown",
   "id": "e0136542",
   "metadata": {},
   "source": [
    "### Exercício 15: Converter tipos de colunas (cast).\n",
    "\n",
    "**Descrição:** Objetivo: Converter tipos de colunas (cast).\n",
    "\n",
    "Instruções: Implemente o código usando PySpark, seguindo boas práticas.\n",
    "\n",
    "**Starter code:**"
   ]
  },
  {
   "cell_type": "code",
   "execution_count": null,
   "id": "89d84fcc",
   "metadata": {},
   "outputs": [],
   "source": [
    "# Código inicial (comente e complete)\n",
    "\n",
    "from pyspark.sql import SparkSession\n",
    "from pyspark.sql import functions as F\n",
    "\n",
    "# TODO: completar\n"
   ]
  },
  {
   "cell_type": "markdown",
   "id": "068871e4",
   "metadata": {},
   "source": [
    "### Exercício 16: Exibir valores únicos de uma coluna (distinct).\n",
    "\n",
    "**Descrição:** Objetivo: Exibir valores únicos de uma coluna (distinct).\n",
    "\n",
    "Instruções: Implemente o código usando PySpark, seguindo boas práticas.\n",
    "\n",
    "**Starter code:**"
   ]
  },
  {
   "cell_type": "code",
   "execution_count": null,
   "id": "dcf0e08a",
   "metadata": {},
   "outputs": [],
   "source": [
    "# Código inicial (comente e complete)\n",
    "\n",
    "from pyspark.sql import SparkSession\n",
    "from pyspark.sql import functions as F\n",
    "\n",
    "# TODO: completar\n"
   ]
  },
  {
   "cell_type": "markdown",
   "id": "f31196de",
   "metadata": {},
   "source": [
    "### Exercício 17: Contar valores únicos (distinct().count()).\n",
    "\n",
    "**Descrição:** Objetivo: Contar valores únicos (distinct().count()).\n",
    "\n",
    "Instruções: Implemente o código usando PySpark, seguindo boas práticas.\n",
    "\n",
    "**Starter code:**"
   ]
  },
  {
   "cell_type": "code",
   "execution_count": null,
   "id": "b53d4419",
   "metadata": {},
   "outputs": [],
   "source": [
    "# Código inicial (comente e complete)\n",
    "\n",
    "from pyspark.sql import SparkSession\n",
    "from pyspark.sql import functions as F\n",
    "\n",
    "# TODO: completar\n"
   ]
  },
  {
   "cell_type": "markdown",
   "id": "246147ae",
   "metadata": {},
   "source": [
    "### Exercício 18: Filtrar valores nulos (filter + isNull).\n",
    "\n",
    "**Descrição:** Objetivo: Filtrar valores nulos (filter + isNull).\n",
    "\n",
    "Instruções: Implemente o código usando PySpark, seguindo boas práticas.\n",
    "\n",
    "**Starter code:**"
   ]
  },
  {
   "cell_type": "code",
   "execution_count": null,
   "id": "abf58d9d",
   "metadata": {},
   "outputs": [],
   "source": [
    "# Código inicial (comente e complete)\n",
    "\n",
    "from pyspark.sql import SparkSession\n",
    "from pyspark.sql import functions as F\n",
    "\n",
    "# TODO: completar\n"
   ]
  },
  {
   "cell_type": "markdown",
   "id": "d3b2c372",
   "metadata": {},
   "source": [
    "### Exercício 19: Substituir valores nulos (fillna).\n",
    "\n",
    "**Descrição:** Objetivo: Substituir valores nulos (fillna).\n",
    "\n",
    "Instruções: Implemente o código usando PySpark, seguindo boas práticas.\n",
    "\n",
    "**Starter code:**"
   ]
  },
  {
   "cell_type": "code",
   "execution_count": null,
   "id": "85aa6887",
   "metadata": {},
   "outputs": [],
   "source": [
    "# Código inicial (comente e complete)\n",
    "\n",
    "from pyspark.sql import SparkSession\n",
    "from pyspark.sql import functions as F\n",
    "\n",
    "# TODO: completar\n"
   ]
  },
  {
   "cell_type": "markdown",
   "id": "5a95c193",
   "metadata": {},
   "source": [
    "### Exercício 20: Ler um JSON local e visualizar dados.\n",
    "\n",
    "**Descrição:** Objetivo: Ler um JSON local e visualizar dados.\n",
    "\n",
    "Instruções: Implemente o código usando PySpark, seguindo boas práticas.\n",
    "\n",
    "**Starter code:**"
   ]
  },
  {
   "cell_type": "code",
   "execution_count": null,
   "id": "33867fec",
   "metadata": {},
   "outputs": [],
   "source": [
    "# Código inicial (comente e complete)\n",
    "\n",
    "from pyspark.sql import SparkSession\n",
    "from pyspark.sql import functions as F\n",
    "\n",
    "# TODO: completar\n"
   ]
  },
  {
   "cell_type": "markdown",
   "id": "38c37ab0",
   "metadata": {},
   "source": [
    "### Exercício 21: Salvar um DataFrame em formato CSV.\n",
    "\n",
    "**Descrição:** Objetivo: Salvar um DataFrame em formato CSV.\n",
    "\n",
    "Instruções: Implemente o código usando PySpark, seguindo boas práticas.\n",
    "\n",
    "**Starter code:**"
   ]
  },
  {
   "cell_type": "code",
   "execution_count": null,
   "id": "dfa49b0b",
   "metadata": {},
   "outputs": [],
   "source": [
    "# Código inicial (comente e complete)\n",
    "\n",
    "from pyspark.sql import SparkSession\n",
    "from pyspark.sql import functions as F\n",
    "\n",
    "# TODO: completar\n"
   ]
  },
  {
   "cell_type": "markdown",
   "id": "62fbe85a",
   "metadata": {},
   "source": [
    "### Exercício 22: Salvar um DataFrame em formato Parquet.\n",
    "\n",
    "**Descrição:** Objetivo: Salvar um DataFrame em formato Parquet.\n",
    "\n",
    "Instruções: Implemente o código usando PySpark, seguindo boas práticas.\n",
    "\n",
    "**Starter code:**"
   ]
  },
  {
   "cell_type": "code",
   "execution_count": null,
   "id": "f5abaa1c",
   "metadata": {},
   "outputs": [],
   "source": [
    "# Código inicial (comente e complete)\n",
    "\n",
    "from pyspark.sql import SparkSession\n",
    "from pyspark.sql import functions as F\n",
    "\n",
    "# TODO: completar\n"
   ]
  },
  {
   "cell_type": "markdown",
   "id": "9648bd8c",
   "metadata": {},
   "source": [
    "### Exercício 23: Salvar dados em JSON.\n",
    "\n",
    "**Descrição:** Objetivo: Salvar dados em JSON.\n",
    "\n",
    "Instruções: Implemente o código usando PySpark, seguindo boas práticas.\n",
    "\n",
    "**Starter code:**"
   ]
  },
  {
   "cell_type": "code",
   "execution_count": null,
   "id": "bf3a147c",
   "metadata": {},
   "outputs": [],
   "source": [
    "# Código inicial (comente e complete)\n",
    "\n",
    "from pyspark.sql import SparkSession\n",
    "from pyspark.sql import functions as F\n",
    "\n",
    "# TODO: completar\n"
   ]
  },
  {
   "cell_type": "markdown",
   "id": "558af86c",
   "metadata": {},
   "source": [
    "### Exercício 24: Usar .describe() para estatísticas descritivas.\n",
    "\n",
    "**Descrição:** Objetivo: Usar .describe() para estatísticas descritivas.\n",
    "\n",
    "Instruções: Implemente o código usando PySpark, seguindo boas práticas.\n",
    "\n",
    "**Starter code:**"
   ]
  },
  {
   "cell_type": "code",
   "execution_count": null,
   "id": "1ff8897c",
   "metadata": {},
   "outputs": [],
   "source": [
    "# Código inicial (comente e complete)\n",
    "\n",
    "from pyspark.sql import SparkSession\n",
    "from pyspark.sql import functions as F\n",
    "\n",
    "# TODO: completar\n"
   ]
  },
  {
   "cell_type": "markdown",
   "id": "ac626794",
   "metadata": {},
   "source": [
    "### Exercício 25: Criar colunas a partir de expressões (expr).\n",
    "\n",
    "**Descrição:** Objetivo: Criar colunas a partir de expressões (expr).\n",
    "\n",
    "Instruções: Implemente o código usando PySpark, seguindo boas práticas.\n",
    "\n",
    "**Starter code:**"
   ]
  },
  {
   "cell_type": "code",
   "execution_count": null,
   "id": "655798dd",
   "metadata": {},
   "outputs": [],
   "source": [
    "# Código inicial (comente e complete)\n",
    "\n",
    "from pyspark.sql import SparkSession\n",
    "from pyspark.sql import functions as F\n",
    "\n",
    "# TODO: completar\n"
   ]
  },
  {
   "cell_type": "markdown",
   "id": "3d04133b",
   "metadata": {},
   "source": [
    "---\n",
    "\n",
    "## 🟦 Seção: Intermediário\n",
    "\n"
   ]
  },
  {
   "cell_type": "markdown",
   "id": "8f4fd56b",
   "metadata": {},
   "source": [
    "### Exercício 26: Agrupar dados e calcular médias (groupBy().avg()).\n",
    "\n",
    "**Descrição:** Objetivo: Agrupar dados e calcular médias (groupBy().avg()).\n",
    "\n",
    "Instruções: implemente usando funções do PySpark.\n",
    "\n",
    "**Starter code:**"
   ]
  },
  {
   "cell_type": "code",
   "execution_count": null,
   "id": "5f706486",
   "metadata": {},
   "outputs": [],
   "source": [
    "# Código inicial\n",
    "\n",
    "from pyspark.sql import functions as F\n",
    "from pyspark.sql.window import Window\n",
    "\n",
    "# TODO: completar\n"
   ]
  },
  {
   "cell_type": "markdown",
   "id": "5a90b3c3",
   "metadata": {},
   "source": [
    "### Exercício 27: Calcular soma, mínimo e máximo por grupo (groupBy().agg()).\n",
    "\n",
    "**Descrição:** Objetivo: Calcular soma, mínimo e máximo por grupo (groupBy().agg()).\n",
    "\n",
    "Instruções: implemente usando funções do PySpark.\n",
    "\n",
    "**Starter code:**"
   ]
  },
  {
   "cell_type": "code",
   "execution_count": null,
   "id": "4a2d25fe",
   "metadata": {},
   "outputs": [],
   "source": [
    "# Código inicial\n",
    "\n",
    "from pyspark.sql import functions as F\n",
    "from pyspark.sql.window import Window\n",
    "\n",
    "# TODO: completar\n"
   ]
  },
  {
   "cell_type": "markdown",
   "id": "f7bfe54d",
   "metadata": {},
   "source": [
    "### Exercício 28: Contar registros por categoria.\n",
    "\n",
    "**Descrição:** Objetivo: Contar registros por categoria.\n",
    "\n",
    "Instruções: implemente usando funções do PySpark.\n",
    "\n",
    "**Starter code:**"
   ]
  },
  {
   "cell_type": "code",
   "execution_count": null,
   "id": "80de639f",
   "metadata": {},
   "outputs": [],
   "source": [
    "# Código inicial\n",
    "\n",
    "from pyspark.sql import functions as F\n",
    "from pyspark.sql.window import Window\n",
    "\n",
    "# TODO: completar\n"
   ]
  },
  {
   "cell_type": "markdown",
   "id": "ee4ec675",
   "metadata": {},
   "source": [
    "### Exercício 29: Usar funções de janela (Window).\n",
    "\n",
    "**Descrição:** Objetivo: Usar funções de janela (Window).\n",
    "\n",
    "Instruções: implemente usando funções do PySpark.\n",
    "\n",
    "**Starter code:**"
   ]
  },
  {
   "cell_type": "code",
   "execution_count": null,
   "id": "5c6179d5",
   "metadata": {},
   "outputs": [],
   "source": [
    "# Código inicial\n",
    "\n",
    "from pyspark.sql import functions as F\n",
    "from pyspark.sql.window import Window\n",
    "\n",
    "# TODO: completar\n"
   ]
  },
  {
   "cell_type": "markdown",
   "id": "c63b5f2a",
   "metadata": {},
   "source": [
    "### Exercício 30: Criar coluna com rank (row_number).\n",
    "\n",
    "**Descrição:** Objetivo: Criar coluna com rank (row_number).\n",
    "\n",
    "Instruções: implemente usando funções do PySpark.\n",
    "\n",
    "**Starter code:**"
   ]
  },
  {
   "cell_type": "code",
   "execution_count": null,
   "id": "0999b941",
   "metadata": {},
   "outputs": [],
   "source": [
    "# Código inicial\n",
    "\n",
    "from pyspark.sql import functions as F\n",
    "from pyspark.sql.window import Window\n",
    "\n",
    "# TODO: completar\n"
   ]
  },
  {
   "cell_type": "markdown",
   "id": "ed57fd29",
   "metadata": {},
   "source": [
    "### Exercício 31: Calcular média móvel usando janela (avg().over()).\n",
    "\n",
    "**Descrição:** Objetivo: Calcular média móvel usando janela (avg().over()).\n",
    "\n",
    "Instruções: implemente usando funções do PySpark.\n",
    "\n",
    "**Starter code:**"
   ]
  },
  {
   "cell_type": "code",
   "execution_count": null,
   "id": "79f77c38",
   "metadata": {},
   "outputs": [],
   "source": [
    "# Código inicial\n",
    "\n",
    "from pyspark.sql import functions as F\n",
    "from pyspark.sql.window import Window\n",
    "\n",
    "# TODO: completar\n"
   ]
  },
  {
   "cell_type": "markdown",
   "id": "70992776",
   "metadata": {},
   "source": [
    "### Exercício 32: Realizar join interno (inner join).\n",
    "\n",
    "**Descrição:** Objetivo: Realizar join interno (inner join).\n",
    "\n",
    "Instruções: implemente usando funções do PySpark.\n",
    "\n",
    "**Starter code:**"
   ]
  },
  {
   "cell_type": "code",
   "execution_count": null,
   "id": "74f3894a",
   "metadata": {},
   "outputs": [],
   "source": [
    "# Código inicial\n",
    "\n",
    "from pyspark.sql import functions as F\n",
    "from pyspark.sql.window import Window\n",
    "\n",
    "# TODO: completar\n"
   ]
  },
  {
   "cell_type": "markdown",
   "id": "e407324a",
   "metadata": {},
   "source": [
    "### Exercício 33: Realizar join externo (outer join).\n",
    "\n",
    "**Descrição:** Objetivo: Realizar join externo (outer join).\n",
    "\n",
    "Instruções: implemente usando funções do PySpark.\n",
    "\n",
    "**Starter code:**"
   ]
  },
  {
   "cell_type": "code",
   "execution_count": null,
   "id": "162c8209",
   "metadata": {},
   "outputs": [],
   "source": [
    "# Código inicial\n",
    "\n",
    "from pyspark.sql import functions as F\n",
    "from pyspark.sql.window import Window\n",
    "\n",
    "# TODO: completar\n"
   ]
  },
  {
   "cell_type": "markdown",
   "id": "cb2deb49",
   "metadata": {},
   "source": [
    "### Exercício 34: Realizar join à esquerda (left join).\n",
    "\n",
    "**Descrição:** Objetivo: Realizar join à esquerda (left join).\n",
    "\n",
    "Instruções: implemente usando funções do PySpark.\n",
    "\n",
    "**Starter code:**"
   ]
  },
  {
   "cell_type": "code",
   "execution_count": null,
   "id": "6fc968aa",
   "metadata": {},
   "outputs": [],
   "source": [
    "# Código inicial\n",
    "\n",
    "from pyspark.sql import functions as F\n",
    "from pyspark.sql.window import Window\n",
    "\n",
    "# TODO: completar\n"
   ]
  },
  {
   "cell_type": "markdown",
   "id": "5bbbb7a4",
   "metadata": {},
   "source": [
    "### Exercício 35: Realizar join à direita (right join).\n",
    "\n",
    "**Descrição:** Objetivo: Realizar join à direita (right join).\n",
    "\n",
    "Instruções: implemente usando funções do PySpark.\n",
    "\n",
    "**Starter code:**"
   ]
  },
  {
   "cell_type": "code",
   "execution_count": null,
   "id": "0ff73e95",
   "metadata": {},
   "outputs": [],
   "source": [
    "# Código inicial\n",
    "\n",
    "from pyspark.sql import functions as F\n",
    "from pyspark.sql.window import Window\n",
    "\n",
    "# TODO: completar\n"
   ]
  },
  {
   "cell_type": "markdown",
   "id": "807dc3b5",
   "metadata": {},
   "source": [
    "### Exercício 36: Fazer join usando múltiplas chaves.\n",
    "\n",
    "**Descrição:** Objetivo: Fazer join usando múltiplas chaves.\n",
    "\n",
    "Instruções: implemente usando funções do PySpark.\n",
    "\n",
    "**Starter code:**"
   ]
  },
  {
   "cell_type": "code",
   "execution_count": null,
   "id": "6b54b3a2",
   "metadata": {},
   "outputs": [],
   "source": [
    "# Código inicial\n",
    "\n",
    "from pyspark.sql import functions as F\n",
    "from pyspark.sql.window import Window\n",
    "\n",
    "# TODO: completar\n"
   ]
  },
  {
   "cell_type": "markdown",
   "id": "7f6cceea",
   "metadata": {},
   "source": [
    "### Exercício 37: Usar union para concatenar DataFrames.\n",
    "\n",
    "**Descrição:** Objetivo: Usar union para concatenar DataFrames.\n",
    "\n",
    "Instruções: implemente usando funções do PySpark.\n",
    "\n",
    "**Starter code:**"
   ]
  },
  {
   "cell_type": "code",
   "execution_count": null,
   "id": "36ac5a29",
   "metadata": {},
   "outputs": [],
   "source": [
    "# Código inicial\n",
    "\n",
    "from pyspark.sql import functions as F\n",
    "from pyspark.sql.window import Window\n",
    "\n",
    "# TODO: completar\n"
   ]
  },
  {
   "cell_type": "markdown",
   "id": "ee3458e2",
   "metadata": {},
   "source": [
    "### Exercício 38: Remover duplicados (dropDuplicates).\n",
    "\n",
    "**Descrição:** Objetivo: Remover duplicados (dropDuplicates).\n",
    "\n",
    "Instruções: implemente usando funções do PySpark.\n",
    "\n",
    "**Starter code:**"
   ]
  },
  {
   "cell_type": "code",
   "execution_count": null,
   "id": "b0b63186",
   "metadata": {},
   "outputs": [],
   "source": [
    "# Código inicial\n",
    "\n",
    "from pyspark.sql import functions as F\n",
    "from pyspark.sql.window import Window\n",
    "\n",
    "# TODO: completar\n"
   ]
  },
  {
   "cell_type": "markdown",
   "id": "deac0b71",
   "metadata": {},
   "source": [
    "### Exercício 39: Criar colunas condicionais (when / otherwise).\n",
    "\n",
    "**Descrição:** Objetivo: Criar colunas condicionais (when / otherwise).\n",
    "\n",
    "Instruções: implemente usando funções do PySpark.\n",
    "\n",
    "**Starter code:**"
   ]
  },
  {
   "cell_type": "code",
   "execution_count": null,
   "id": "adebd423",
   "metadata": {},
   "outputs": [],
   "source": [
    "# Código inicial\n",
    "\n",
    "from pyspark.sql import functions as F\n",
    "from pyspark.sql.window import Window\n",
    "\n",
    "# TODO: completar\n"
   ]
  },
  {
   "cell_type": "markdown",
   "id": "b28fd0a7",
   "metadata": {},
   "source": [
    "### Exercício 40: Criar colunas baseadas em regex (regexp_extract).\n",
    "\n",
    "**Descrição:** Objetivo: Criar colunas baseadas em regex (regexp_extract).\n",
    "\n",
    "Instruções: implemente usando funções do PySpark.\n",
    "\n",
    "**Starter code:**"
   ]
  },
  {
   "cell_type": "code",
   "execution_count": null,
   "id": "a0ae8106",
   "metadata": {},
   "outputs": [],
   "source": [
    "# Código inicial\n",
    "\n",
    "from pyspark.sql import functions as F\n",
    "from pyspark.sql.window import Window\n",
    "\n",
    "# TODO: completar\n"
   ]
  },
  {
   "cell_type": "markdown",
   "id": "6464cee4",
   "metadata": {},
   "source": [
    "### Exercício 41: Filtrar usando regex (rlike).\n",
    "\n",
    "**Descrição:** Objetivo: Filtrar usando regex (rlike).\n",
    "\n",
    "Instruções: implemente usando funções do PySpark.\n",
    "\n",
    "**Starter code:**"
   ]
  },
  {
   "cell_type": "code",
   "execution_count": null,
   "id": "9a3f7c33",
   "metadata": {},
   "outputs": [],
   "source": [
    "# Código inicial\n",
    "\n",
    "from pyspark.sql import functions as F\n",
    "from pyspark.sql.window import Window\n",
    "\n",
    "# TODO: completar\n"
   ]
  },
  {
   "cell_type": "markdown",
   "id": "9eadb2e9",
   "metadata": {},
   "source": [
    "### Exercício 42: Explodir arrays (explode).\n",
    "\n",
    "**Descrição:** Objetivo: Explodir arrays (explode).\n",
    "\n",
    "Instruções: implemente usando funções do PySpark.\n",
    "\n",
    "**Starter code:**"
   ]
  },
  {
   "cell_type": "code",
   "execution_count": null,
   "id": "9e0a445d",
   "metadata": {},
   "outputs": [],
   "source": [
    "# Código inicial\n",
    "\n",
    "from pyspark.sql import functions as F\n",
    "from pyspark.sql.window import Window\n",
    "\n",
    "# TODO: completar\n"
   ]
  },
  {
   "cell_type": "markdown",
   "id": "00e16371",
   "metadata": {},
   "source": [
    "### Exercício 43: Agrupar dados e gerar listas (collect_list).\n",
    "\n",
    "**Descrição:** Objetivo: Agrupar dados e gerar listas (collect_list).\n",
    "\n",
    "Instruções: implemente usando funções do PySpark.\n",
    "\n",
    "**Starter code:**"
   ]
  },
  {
   "cell_type": "code",
   "execution_count": null,
   "id": "46a45e7a",
   "metadata": {},
   "outputs": [],
   "source": [
    "# Código inicial\n",
    "\n",
    "from pyspark.sql import functions as F\n",
    "from pyspark.sql.window import Window\n",
    "\n",
    "# TODO: completar\n"
   ]
  },
  {
   "cell_type": "markdown",
   "id": "57bd5cea",
   "metadata": {},
   "source": [
    "### Exercício 44: Transformar strings para maiúsculas/minúsculas.\n",
    "\n",
    "**Descrição:** Objetivo: Transformar strings para maiúsculas/minúsculas.\n",
    "\n",
    "Instruções: implemente usando funções do PySpark.\n",
    "\n",
    "**Starter code:**"
   ]
  },
  {
   "cell_type": "code",
   "execution_count": null,
   "id": "3774f7a1",
   "metadata": {},
   "outputs": [],
   "source": [
    "# Código inicial\n",
    "\n",
    "from pyspark.sql import functions as F\n",
    "from pyspark.sql.window import Window\n",
    "\n",
    "# TODO: completar\n"
   ]
  },
  {
   "cell_type": "markdown",
   "id": "5e2cbb01",
   "metadata": {},
   "source": [
    "### Exercício 45: Extrair partes de datas (year, month, dayofmonth).\n",
    "\n",
    "**Descrição:** Objetivo: Extrair partes de datas (year, month, dayofmonth).\n",
    "\n",
    "Instruções: implemente usando funções do PySpark.\n",
    "\n",
    "**Starter code:**"
   ]
  },
  {
   "cell_type": "code",
   "execution_count": null,
   "id": "c72b56f7",
   "metadata": {},
   "outputs": [],
   "source": [
    "# Código inicial\n",
    "\n",
    "from pyspark.sql import functions as F\n",
    "from pyspark.sql.window import Window\n",
    "\n",
    "# TODO: completar\n"
   ]
  },
  {
   "cell_type": "markdown",
   "id": "bf0b52d7",
   "metadata": {},
   "source": [
    "### Exercício 46: Calcular diferença entre datas (datediff).\n",
    "\n",
    "**Descrição:** Objetivo: Calcular diferença entre datas (datediff).\n",
    "\n",
    "Instruções: implemente usando funções do PySpark.\n",
    "\n",
    "**Starter code:**"
   ]
  },
  {
   "cell_type": "code",
   "execution_count": null,
   "id": "bff4d5b6",
   "metadata": {},
   "outputs": [],
   "source": [
    "# Código inicial\n",
    "\n",
    "from pyspark.sql import functions as F\n",
    "from pyspark.sql.window import Window\n",
    "\n",
    "# TODO: completar\n"
   ]
  },
  {
   "cell_type": "markdown",
   "id": "1128d255",
   "metadata": {},
   "source": [
    "### Exercício 47: Adicionar dias a uma data (date_add).\n",
    "\n",
    "**Descrição:** Objetivo: Adicionar dias a uma data (date_add).\n",
    "\n",
    "Instruções: implemente usando funções do PySpark.\n",
    "\n",
    "**Starter code:**"
   ]
  },
  {
   "cell_type": "code",
   "execution_count": null,
   "id": "2721a617",
   "metadata": {},
   "outputs": [],
   "source": [
    "# Código inicial\n",
    "\n",
    "from pyspark.sql import functions as F\n",
    "from pyspark.sql.window import Window\n",
    "\n",
    "# TODO: completar\n"
   ]
  },
  {
   "cell_type": "markdown",
   "id": "0cdf34ed",
   "metadata": {},
   "source": [
    "### Exercício 48: Criar coluna de timestamp atual (current_timestamp).\n",
    "\n",
    "**Descrição:** Objetivo: Criar coluna de timestamp atual (current_timestamp).\n",
    "\n",
    "Instruções: implemente usando funções do PySpark.\n",
    "\n",
    "**Starter code:**"
   ]
  },
  {
   "cell_type": "code",
   "execution_count": null,
   "id": "df245346",
   "metadata": {},
   "outputs": [],
   "source": [
    "# Código inicial\n",
    "\n",
    "from pyspark.sql import functions as F\n",
    "from pyspark.sql.window import Window\n",
    "\n",
    "# TODO: completar\n"
   ]
  },
  {
   "cell_type": "markdown",
   "id": "9a49b94d",
   "metadata": {},
   "source": [
    "### Exercício 49: Fazer pivot de dados (pivot).\n",
    "\n",
    "**Descrição:** Objetivo: Fazer pivot de dados (pivot).\n",
    "\n",
    "Instruções: implemente usando funções do PySpark.\n",
    "\n",
    "**Starter code:**"
   ]
  },
  {
   "cell_type": "code",
   "execution_count": null,
   "id": "d0111a3a",
   "metadata": {},
   "outputs": [],
   "source": [
    "# Código inicial\n",
    "\n",
    "from pyspark.sql import functions as F\n",
    "from pyspark.sql.window import Window\n",
    "\n",
    "# TODO: completar\n"
   ]
  },
  {
   "cell_type": "markdown",
   "id": "85e8e443",
   "metadata": {},
   "source": [
    "### Exercício 50: Fazer unpivot/melt (via manipulação).\n",
    "\n",
    "**Descrição:** Objetivo: Fazer unpivot/melt (via manipulação).\n",
    "\n",
    "Instruções: implemente usando funções do PySpark.\n",
    "\n",
    "**Starter code:**"
   ]
  },
  {
   "cell_type": "code",
   "execution_count": null,
   "id": "57793fe5",
   "metadata": {},
   "outputs": [],
   "source": [
    "# Código inicial\n",
    "\n",
    "from pyspark.sql import functions as F\n",
    "from pyspark.sql.window import Window\n",
    "\n",
    "# TODO: completar\n"
   ]
  },
  {
   "cell_type": "markdown",
   "id": "c810e8d0",
   "metadata": {},
   "source": [
    "---\n",
    "\n",
    "## 🟦 Seção: Avançado\n",
    "\n"
   ]
  },
  {
   "cell_type": "markdown",
   "id": "d6280693",
   "metadata": {},
   "source": [
    "### Exercício 51: Crear UDF (User Defined Function) simples.\n",
    "\n",
    "**Descrição:** Objetivo: Crear UDF (User Defined Function) simples.\n",
    "\n",
    "Instruções: implemente com foco em performance, escalabilidade e melhores práticas.\n",
    "\n",
    "**Starter code:**"
   ]
  },
  {
   "cell_type": "code",
   "execution_count": null,
   "id": "abffc11a",
   "metadata": {},
   "outputs": [],
   "source": [
    "# Código inicial\n",
    "\n",
    "from pyspark.sql import functions as F\n",
    "\n",
    "# TODO: completar\n"
   ]
  },
  {
   "cell_type": "markdown",
   "id": "0405c0d8",
   "metadata": {},
   "source": [
    "### Exercício 52: Criar UDF para manipulação de strings.\n",
    "\n",
    "**Descrição:** Objetivo: Criar UDF para manipulação de strings.\n",
    "\n",
    "Instruções: implemente com foco em performance, escalabilidade e melhores práticas.\n",
    "\n",
    "**Starter code:**"
   ]
  },
  {
   "cell_type": "code",
   "execution_count": null,
   "id": "4e0ec1e4",
   "metadata": {},
   "outputs": [],
   "source": [
    "# Código inicial\n",
    "\n",
    "from pyspark.sql import functions as F\n",
    "\n",
    "# TODO: completar\n"
   ]
  },
  {
   "cell_type": "markdown",
   "id": "8c637c25",
   "metadata": {},
   "source": [
    "### Exercício 53: Criar UDF com múltiplos parâmetros.\n",
    "\n",
    "**Descrição:** Objetivo: Criar UDF com múltiplos parâmetros.\n",
    "\n",
    "Instruções: implemente com foco em performance, escalabilidade e melhores práticas.\n",
    "\n",
    "**Starter code:**"
   ]
  },
  {
   "cell_type": "code",
   "execution_count": null,
   "id": "7d498711",
   "metadata": {},
   "outputs": [],
   "source": [
    "# Código inicial\n",
    "\n",
    "from pyspark.sql import functions as F\n",
    "\n",
    "# TODO: completar\n"
   ]
  },
  {
   "cell_type": "markdown",
   "id": "0fb15daa",
   "metadata": {},
   "source": [
    "### Exercício 54: Criar UDF usando Pandas (pandas_udf).\n",
    "\n",
    "**Descrição:** Objetivo: Criar UDF usando Pandas (pandas_udf).\n",
    "\n",
    "Instruções: implemente com foco em performance, escalabilidade e melhores práticas.\n",
    "\n",
    "**Starter code:**"
   ]
  },
  {
   "cell_type": "code",
   "execution_count": null,
   "id": "9c099991",
   "metadata": {},
   "outputs": [],
   "source": [
    "# Código inicial\n",
    "\n",
    "from pyspark.sql import functions as F\n",
    "\n",
    "# TODO: completar\n"
   ]
  },
  {
   "cell_type": "markdown",
   "id": "1999edcb",
   "metadata": {},
   "source": [
    "### Exercício 55: Usar funções SQL diretamente (spark.sql).\n",
    "\n",
    "**Descrição:** Objetivo: Usar funções SQL diretamente (spark.sql).\n",
    "\n",
    "Instruções: implemente com foco em performance, escalabilidade e melhores práticas.\n",
    "\n",
    "**Starter code:**"
   ]
  },
  {
   "cell_type": "code",
   "execution_count": null,
   "id": "d4c4e2f5",
   "metadata": {},
   "outputs": [],
   "source": [
    "# Código inicial\n",
    "\n",
    "from pyspark.sql import functions as F\n",
    "\n",
    "# TODO: completar\n"
   ]
  },
  {
   "cell_type": "markdown",
   "id": "960b8e53",
   "metadata": {},
   "source": [
    "### Exercício 56: Criar view temporária (createOrReplaceTempView).\n",
    "\n",
    "**Descrição:** Objetivo: Criar view temporária (createOrReplaceTempView).\n",
    "\n",
    "Instruções: implemente com foco em performance, escalabilidade e melhores práticas.\n",
    "\n",
    "**Starter code:**"
   ]
  },
  {
   "cell_type": "code",
   "execution_count": null,
   "id": "47c980a5",
   "metadata": {},
   "outputs": [],
   "source": [
    "# Código inicial\n",
    "\n",
    "from pyspark.sql import functions as F\n",
    "\n",
    "# TODO: completar\n"
   ]
  },
  {
   "cell_type": "markdown",
   "id": "fef7f751",
   "metadata": {},
   "source": [
    "### Exercício 57: Criar view global (createGlobalTempView).\n",
    "\n",
    "**Descrição:** Objetivo: Criar view global (createGlobalTempView).\n",
    "\n",
    "Instruções: implemente com foco em performance, escalabilidade e melhores práticas.\n",
    "\n",
    "**Starter code:**"
   ]
  },
  {
   "cell_type": "code",
   "execution_count": null,
   "id": "2dc504c1",
   "metadata": {},
   "outputs": [],
   "source": [
    "# Código inicial\n",
    "\n",
    "from pyspark.sql import functions as F\n",
    "\n",
    "# TODO: completar\n"
   ]
  },
  {
   "cell_type": "markdown",
   "id": "1db8d823",
   "metadata": {},
   "source": [
    "### Exercício 58: Ler dados de um banco de dados via JDBC.\n",
    "\n",
    "**Descrição:** Objetivo: Ler dados de um banco de dados via JDBC.\n",
    "\n",
    "Instruções: implemente com foco em performance, escalabilidade e melhores práticas.\n",
    "\n",
    "**Starter code:**"
   ]
  },
  {
   "cell_type": "code",
   "execution_count": null,
   "id": "3c3c48dc",
   "metadata": {},
   "outputs": [],
   "source": [
    "# Código inicial\n",
    "\n",
    "from pyspark.sql import functions as F\n",
    "\n",
    "# TODO: completar\n"
   ]
  },
  {
   "cell_type": "markdown",
   "id": "3ce1b58a",
   "metadata": {},
   "source": [
    "### Exercício 59: Salvar dados em um banco via JDBC.\n",
    "\n",
    "**Descrição:** Objetivo: Salvar dados em um banco via JDBC.\n",
    "\n",
    "Instruções: implemente com foco em performance, escalabilidade e melhores práticas.\n",
    "\n",
    "**Starter code:**"
   ]
  },
  {
   "cell_type": "code",
   "execution_count": null,
   "id": "810a4126",
   "metadata": {},
   "outputs": [],
   "source": [
    "# Código inicial\n",
    "\n",
    "from pyspark.sql import functions as F\n",
    "\n",
    "# TODO: completar\n"
   ]
  },
  {
   "cell_type": "markdown",
   "id": "525d54d2",
   "metadata": {},
   "source": [
    "### Exercício 60: Ler dados de um bucket S3.\n",
    "\n",
    "**Descrição:** Objetivo: Ler dados de um bucket S3.\n",
    "\n",
    "Instruções: implemente com foco em performance, escalabilidade e melhores práticas.\n",
    "\n",
    "**Starter code:**"
   ]
  },
  {
   "cell_type": "code",
   "execution_count": null,
   "id": "dcb99a24",
   "metadata": {},
   "outputs": [],
   "source": [
    "# Código inicial\n",
    "\n",
    "from pyspark.sql import functions as F\n",
    "\n",
    "# TODO: completar\n"
   ]
  },
  {
   "cell_type": "markdown",
   "id": "8f368999",
   "metadata": {},
   "source": [
    "### Exercício 61: Salvar dados em um bucket S3.\n",
    "\n",
    "**Descrição:** Objetivo: Salvar dados em um bucket S3.\n",
    "\n",
    "Instruções: implemente com foco em performance, escalabilidade e melhores práticas.\n",
    "\n",
    "**Starter code:**"
   ]
  },
  {
   "cell_type": "code",
   "execution_count": null,
   "id": "d8f356ff",
   "metadata": {},
   "outputs": [],
   "source": [
    "# Código inicial\n",
    "\n",
    "from pyspark.sql import functions as F\n",
    "\n",
    "# TODO: completar\n"
   ]
  },
  {
   "cell_type": "markdown",
   "id": "99bf314b",
   "metadata": {},
   "source": [
    "### Exercício 62: Ler dados do Azure Data Lake.\n",
    "\n",
    "**Descrição:** Objetivo: Ler dados do Azure Data Lake.\n",
    "\n",
    "Instruções: implemente com foco em performance, escalabilidade e melhores práticas.\n",
    "\n",
    "**Starter code:**"
   ]
  },
  {
   "cell_type": "code",
   "execution_count": null,
   "id": "4401f4bb",
   "metadata": {},
   "outputs": [],
   "source": [
    "# Código inicial\n",
    "\n",
    "from pyspark.sql import functions as F\n",
    "\n",
    "# TODO: completar\n"
   ]
  },
  {
   "cell_type": "markdown",
   "id": "84561916",
   "metadata": {},
   "source": [
    "### Exercício 63: Salvar dados no Azure Data Lake.\n",
    "\n",
    "**Descrição:** Objetivo: Salvar dados no Azure Data Lake.\n",
    "\n",
    "Instruções: implemente com foco em performance, escalabilidade e melhores práticas.\n",
    "\n",
    "**Starter code:**"
   ]
  },
  {
   "cell_type": "code",
   "execution_count": null,
   "id": "699e16f5",
   "metadata": {},
   "outputs": [],
   "source": [
    "# Código inicial\n",
    "\n",
    "from pyspark.sql import functions as F\n",
    "\n",
    "# TODO: completar\n"
   ]
  },
  {
   "cell_type": "markdown",
   "id": "d638226c",
   "metadata": {},
   "source": [
    "### Exercício 64: Ler dados do Google Cloud Storage.\n",
    "\n",
    "**Descrição:** Objetivo: Ler dados do Google Cloud Storage.\n",
    "\n",
    "Instruções: implemente com foco em performance, escalabilidade e melhores práticas.\n",
    "\n",
    "**Starter code:**"
   ]
  },
  {
   "cell_type": "code",
   "execution_count": null,
   "id": "e94edcb5",
   "metadata": {},
   "outputs": [],
   "source": [
    "# Código inicial\n",
    "\n",
    "from pyspark.sql import functions as F\n",
    "\n",
    "# TODO: completar\n"
   ]
  },
  {
   "cell_type": "markdown",
   "id": "b8b3cf14",
   "metadata": {},
   "source": [
    "### Exercício 65: Usar broadcast join para otimização.\n",
    "\n",
    "**Descrição:** Objetivo: Usar broadcast join para otimização.\n",
    "\n",
    "Instruções: implemente com foco em performance, escalabilidade e melhores práticas.\n",
    "\n",
    "**Starter code:**"
   ]
  },
  {
   "cell_type": "code",
   "execution_count": null,
   "id": "9e3c334f",
   "metadata": {},
   "outputs": [],
   "source": [
    "# Código inicial\n",
    "\n",
    "from pyspark.sql import functions as F\n",
    "\n",
    "# TODO: completar\n"
   ]
  },
  {
   "cell_type": "markdown",
   "id": "3c727ad7",
   "metadata": {},
   "source": [
    "### Exercício 66: Usar cache() para melhorar performance.\n",
    "\n",
    "**Descrição:** Objetivo: Usar cache() para melhorar performance.\n",
    "\n",
    "Instruções: implemente com foco em performance, escalabilidade e melhores práticas.\n",
    "\n",
    "**Starter code:**"
   ]
  },
  {
   "cell_type": "code",
   "execution_count": null,
   "id": "46310635",
   "metadata": {},
   "outputs": [],
   "source": [
    "# Código inicial\n",
    "\n",
    "from pyspark.sql import functions as F\n",
    "\n",
    "# TODO: completar\n"
   ]
  },
  {
   "cell_type": "markdown",
   "id": "7fea3cdb",
   "metadata": {},
   "source": [
    "### Exercício 67: Usar persist() com diferentes níveis de armazenamento.\n",
    "\n",
    "**Descrição:** Objetivo: Usar persist() com diferentes níveis de armazenamento.\n",
    "\n",
    "Instruções: implemente com foco em performance, escalabilidade e melhores práticas.\n",
    "\n",
    "**Starter code:**"
   ]
  },
  {
   "cell_type": "code",
   "execution_count": null,
   "id": "f76fa0fd",
   "metadata": {},
   "outputs": [],
   "source": [
    "# Código inicial\n",
    "\n",
    "from pyspark.sql import functions as F\n",
    "\n",
    "# TODO: completar\n"
   ]
  },
  {
   "cell_type": "markdown",
   "id": "9e23e65a",
   "metadata": {},
   "source": [
    "### Exercício 68: Analisar plano de execução (explain).\n",
    "\n",
    "**Descrição:** Objetivo: Analisar plano de execução (explain).\n",
    "\n",
    "Instruções: implemente com foco em performance, escalabilidade e melhores práticas.\n",
    "\n",
    "**Starter code:**"
   ]
  },
  {
   "cell_type": "code",
   "execution_count": null,
   "id": "d494100d",
   "metadata": {},
   "outputs": [],
   "source": [
    "# Código inicial\n",
    "\n",
    "from pyspark.sql import functions as F\n",
    "\n",
    "# TODO: completar\n"
   ]
  },
  {
   "cell_type": "markdown",
   "id": "d6e57fed",
   "metadata": {},
   "source": [
    "### Exercício 69: Usar repartition() para balancear dados.\n",
    "\n",
    "**Descrição:** Objetivo: Usar repartition() para balancear dados.\n",
    "\n",
    "Instruções: implemente com foco em performance, escalabilidade e melhores práticas.\n",
    "\n",
    "**Starter code:**"
   ]
  },
  {
   "cell_type": "code",
   "execution_count": null,
   "id": "d3d75f49",
   "metadata": {},
   "outputs": [],
   "source": [
    "# Código inicial\n",
    "\n",
    "from pyspark.sql import functions as F\n",
    "\n",
    "# TODO: completar\n"
   ]
  },
  {
   "cell_type": "markdown",
   "id": "e62afb86",
   "metadata": {},
   "source": [
    "### Exercício 70: Usar coalesce() para reduzir partições.\n",
    "\n",
    "**Descrição:** Objetivo: Usar coalesce() para reduzir partições.\n",
    "\n",
    "Instruções: implemente com foco em performance, escalabilidade e melhores práticas.\n",
    "\n",
    "**Starter code:**"
   ]
  },
  {
   "cell_type": "code",
   "execution_count": null,
   "id": "14ca7f89",
   "metadata": {},
   "outputs": [],
   "source": [
    "# Código inicial\n",
    "\n",
    "from pyspark.sql import functions as F\n",
    "\n",
    "# TODO: completar\n"
   ]
  },
  {
   "cell_type": "markdown",
   "id": "789eafaa",
   "metadata": {},
   "source": [
    "### Exercício 71: Otimizar leitura de arquivos grandes (parquet).\n",
    "\n",
    "**Descrição:** Objetivo: Otimizar leitura de arquivos grandes (parquet).\n",
    "\n",
    "Instruções: implemente com foco em performance, escalabilidade e melhores práticas.\n",
    "\n",
    "**Starter code:**"
   ]
  },
  {
   "cell_type": "code",
   "execution_count": null,
   "id": "3b7dddb5",
   "metadata": {},
   "outputs": [],
   "source": [
    "# Código inicial\n",
    "\n",
    "from pyspark.sql import functions as F\n",
    "\n",
    "# TODO: completar\n"
   ]
  },
  {
   "cell_type": "markdown",
   "id": "b54dea7b",
   "metadata": {},
   "source": [
    "### Exercício 72: Criar colunas usando funções complexas (array, map).\n",
    "\n",
    "**Descrição:** Objetivo: Criar colunas usando funções complexas (array, map).\n",
    "\n",
    "Instruções: implemente com foco em performance, escalabilidade e melhores práticas.\n",
    "\n",
    "**Starter code:**"
   ]
  },
  {
   "cell_type": "code",
   "execution_count": null,
   "id": "810026dd",
   "metadata": {},
   "outputs": [],
   "source": [
    "# Código inicial\n",
    "\n",
    "from pyspark.sql import functions as F\n",
    "\n",
    "# TODO: completar\n"
   ]
  },
  {
   "cell_type": "markdown",
   "id": "b8170b2e",
   "metadata": {},
   "source": [
    "### Exercício 73: Filtrar usando funções de array (array_contains).\n",
    "\n",
    "**Descrição:** Objetivo: Filtrar usando funções de array (array_contains).\n",
    "\n",
    "Instruções: implemente com foco em performance, escalabilidade e melhores práticas.\n",
    "\n",
    "**Starter code:**"
   ]
  },
  {
   "cell_type": "code",
   "execution_count": null,
   "id": "d3b152e8",
   "metadata": {},
   "outputs": [],
   "source": [
    "# Código inicial\n",
    "\n",
    "from pyspark.sql import functions as F\n",
    "\n",
    "# TODO: completar\n"
   ]
  },
  {
   "cell_type": "markdown",
   "id": "a10c75d9",
   "metadata": {},
   "source": [
    "### Exercício 74: Trabalhar com colunas do tipo struct.\n",
    "\n",
    "**Descrição:** Objetivo: Trabalhar com colunas do tipo struct.\n",
    "\n",
    "Instruções: implemente com foco em performance, escalabilidade e melhores práticas.\n",
    "\n",
    "**Starter code:**"
   ]
  },
  {
   "cell_type": "code",
   "execution_count": null,
   "id": "42313545",
   "metadata": {},
   "outputs": [],
   "source": [
    "# Código inicial\n",
    "\n",
    "from pyspark.sql import functions as F\n",
    "\n",
    "# TODO: completar\n"
   ]
  },
  {
   "cell_type": "markdown",
   "id": "691d9e34",
   "metadata": {},
   "source": [
    "### Exercício 75: Criar coluna JSON a partir de struct.\n",
    "\n",
    "**Descrição:** Objetivo: Criar coluna JSON a partir de struct.\n",
    "\n",
    "Instruções: implemente com foco em performance, escalabilidade e melhores práticas.\n",
    "\n",
    "**Starter code:**"
   ]
  },
  {
   "cell_type": "code",
   "execution_count": null,
   "id": "fe62dbcc",
   "metadata": {},
   "outputs": [],
   "source": [
    "# Código inicial\n",
    "\n",
    "from pyspark.sql import functions as F\n",
    "\n",
    "# TODO: completar\n"
   ]
  },
  {
   "cell_type": "markdown",
   "id": "71b5f2d7",
   "metadata": {},
   "source": [
    "### Exercício 76: Ler coluna JSON e transformá-la em colunas (from_json).\n",
    "\n",
    "**Descrição:** Objetivo: Ler coluna JSON e transformá-la em colunas (from_json).\n",
    "\n",
    "Instruções: implemente com foco em performance, escalabilidade e melhores práticas.\n",
    "\n",
    "**Starter code:**"
   ]
  },
  {
   "cell_type": "code",
   "execution_count": null,
   "id": "b12b3816",
   "metadata": {},
   "outputs": [],
   "source": [
    "# Código inicial\n",
    "\n",
    "from pyspark.sql import functions as F\n",
    "\n",
    "# TODO: completar\n"
   ]
  },
  {
   "cell_type": "markdown",
   "id": "74b166a5",
   "metadata": {},
   "source": [
    "### Exercício 77: Serializar colunas para JSON (to_json).\n",
    "\n",
    "**Descrição:** Objetivo: Serializar colunas para JSON (to_json).\n",
    "\n",
    "Instruções: implemente com foco em performance, escalabilidade e melhores práticas.\n",
    "\n",
    "**Starter code:**"
   ]
  },
  {
   "cell_type": "code",
   "execution_count": null,
   "id": "733332f7",
   "metadata": {},
   "outputs": [],
   "source": [
    "# Código inicial\n",
    "\n",
    "from pyspark.sql import functions as F\n",
    "\n",
    "# TODO: completar\n"
   ]
  },
  {
   "cell_type": "markdown",
   "id": "bffd85a2",
   "metadata": {},
   "source": [
    "### Exercício 78: Criar coluna de hash (sha2).\n",
    "\n",
    "**Descrição:** Objetivo: Criar coluna de hash (sha2).\n",
    "\n",
    "Instruções: implemente com foco em performance, escalabilidade e melhores práticas.\n",
    "\n",
    "**Starter code:**"
   ]
  },
  {
   "cell_type": "code",
   "execution_count": null,
   "id": "fb3eedb8",
   "metadata": {},
   "outputs": [],
   "source": [
    "# Código inicial\n",
    "\n",
    "from pyspark.sql import functions as F\n",
    "\n",
    "# TODO: completar\n"
   ]
  },
  {
   "cell_type": "markdown",
   "id": "773c2f6c",
   "metadata": {},
   "source": [
    "### Exercício 79: Criar coluna UUID.\n",
    "\n",
    "**Descrição:** Objetivo: Criar coluna UUID.\n",
    "\n",
    "Instruções: implemente com foco em performance, escalabilidade e melhores práticas.\n",
    "\n",
    "**Starter code:**"
   ]
  },
  {
   "cell_type": "code",
   "execution_count": null,
   "id": "d294ec86",
   "metadata": {},
   "outputs": [],
   "source": [
    "# Código inicial\n",
    "\n",
    "from pyspark.sql import functions as F\n",
    "\n",
    "# TODO: completar\n"
   ]
  },
  {
   "cell_type": "markdown",
   "id": "ce96e70b",
   "metadata": {},
   "source": [
    "### Exercício 80: Detectar outliers usando funções estatísticas.\n",
    "\n",
    "**Descrição:** Objetivo: Detectar outliers usando funções estatísticas.\n",
    "\n",
    "Instruções: implemente com foco em performance, escalabilidade e melhores práticas.\n",
    "\n",
    "**Starter code:**"
   ]
  },
  {
   "cell_type": "code",
   "execution_count": null,
   "id": "20fc12e5",
   "metadata": {},
   "outputs": [],
   "source": [
    "# Código inicial\n",
    "\n",
    "from pyspark.sql import functions as F\n",
    "\n",
    "# TODO: completar\n"
   ]
  },
  {
   "cell_type": "markdown",
   "id": "11703c5c",
   "metadata": {},
   "source": [
    "### Exercício 81: Criar agregações com múltiplas funções simultâneas.\n",
    "\n",
    "**Descrição:** Objetivo: Criar agregações com múltiplas funções simultâneas.\n",
    "\n",
    "Instruções: implemente com foco em performance, escalabilidade e melhores práticas.\n",
    "\n",
    "**Starter code:**"
   ]
  },
  {
   "cell_type": "code",
   "execution_count": null,
   "id": "ce8b6636",
   "metadata": {},
   "outputs": [],
   "source": [
    "# Código inicial\n",
    "\n",
    "from pyspark.sql import functions as F\n",
    "\n",
    "# TODO: completar\n"
   ]
  },
  {
   "cell_type": "markdown",
   "id": "b4187d7d",
   "metadata": {},
   "source": [
    "### Exercício 82: Ordenar dados dentro de cada grupo (Window).\n",
    "\n",
    "**Descrição:** Objetivo: Ordenar dados dentro de cada grupo (Window).\n",
    "\n",
    "Instruções: implemente com foco em performance, escalabilidade e melhores práticas.\n",
    "\n",
    "**Starter code:**"
   ]
  },
  {
   "cell_type": "code",
   "execution_count": null,
   "id": "fa533904",
   "metadata": {},
   "outputs": [],
   "source": [
    "# Código inicial\n",
    "\n",
    "from pyspark.sql import functions as F\n",
    "\n",
    "# TODO: completar\n"
   ]
  },
  {
   "cell_type": "markdown",
   "id": "f6034d51",
   "metadata": {},
   "source": [
    "### Exercício 83: Criar ranking denso (dense_rank).\n",
    "\n",
    "**Descrição:** Objetivo: Criar ranking denso (dense_rank).\n",
    "\n",
    "Instruções: implemente com foco em performance, escalabilidade e melhores práticas.\n",
    "\n",
    "**Starter code:**"
   ]
  },
  {
   "cell_type": "code",
   "execution_count": null,
   "id": "2ea373a8",
   "metadata": {},
   "outputs": [],
   "source": [
    "# Código inicial\n",
    "\n",
    "from pyspark.sql import functions as F\n",
    "\n",
    "# TODO: completar\n"
   ]
  },
  {
   "cell_type": "markdown",
   "id": "3a220f22",
   "metadata": {},
   "source": [
    "### Exercício 84: Usar funções cumulativas (sum().over()).\n",
    "\n",
    "**Descrição:** Objetivo: Usar funções cumulativas (sum().over()).\n",
    "\n",
    "Instruções: implemente com foco em performance, escalabilidade e melhores práticas.\n",
    "\n",
    "**Starter code:**"
   ]
  },
  {
   "cell_type": "code",
   "execution_count": null,
   "id": "96078562",
   "metadata": {},
   "outputs": [],
   "source": [
    "# Código inicial\n",
    "\n",
    "from pyspark.sql import functions as F\n",
    "\n",
    "# TODO: completar\n"
   ]
  },
  {
   "cell_type": "markdown",
   "id": "4a855dbd",
   "metadata": {},
   "source": [
    "### Exercício 85: Criar coluna categórica baseada em ranges de valores.\n",
    "\n",
    "**Descrição:** Objetivo: Criar coluna categórica baseada em ranges de valores.\n",
    "\n",
    "Instruções: implemente com foco em performance, escalabilidade e melhores práticas.\n",
    "\n",
    "**Starter code:**"
   ]
  },
  {
   "cell_type": "code",
   "execution_count": null,
   "id": "671cb57e",
   "metadata": {},
   "outputs": [],
   "source": [
    "# Código inicial\n",
    "\n",
    "from pyspark.sql import functions as F\n",
    "\n",
    "# TODO: completar\n"
   ]
  },
  {
   "cell_type": "markdown",
   "id": "937d5c3d",
   "metadata": {},
   "source": [
    "### Exercício 86: Trabalhar com dados semi-estruturados (JSON/Avro).\n",
    "\n",
    "**Descrição:** Objetivo: Trabalhar com dados semi-estruturados (JSON/Avro).\n",
    "\n",
    "Instruções: implemente com foco em performance, escalabilidade e melhores práticas.\n",
    "\n",
    "**Starter code:**"
   ]
  },
  {
   "cell_type": "code",
   "execution_count": null,
   "id": "dbecbf40",
   "metadata": {},
   "outputs": [],
   "source": [
    "# Código inicial\n",
    "\n",
    "from pyspark.sql import functions as F\n",
    "\n",
    "# TODO: completar\n"
   ]
  },
  {
   "cell_type": "markdown",
   "id": "7e348f14",
   "metadata": {},
   "source": [
    "### Exercício 87: Ler dados compactados (gzip).\n",
    "\n",
    "**Descrição:** Objetivo: Ler dados compactados (gzip).\n",
    "\n",
    "Instruções: implemente com foco em performance, escalabilidade e melhores práticas.\n",
    "\n",
    "**Starter code:**"
   ]
  },
  {
   "cell_type": "code",
   "execution_count": null,
   "id": "0f06641e",
   "metadata": {},
   "outputs": [],
   "source": [
    "# Código inicial\n",
    "\n",
    "from pyspark.sql import functions as F\n",
    "\n",
    "# TODO: completar\n"
   ]
  },
  {
   "cell_type": "markdown",
   "id": "a183a13f",
   "metadata": {},
   "source": [
    "### Exercício 88: Escrever dados compactados (gzip, snappy).\n",
    "\n",
    "**Descrição:** Objetivo: Escrever dados compactados (gzip, snappy).\n",
    "\n",
    "Instruções: implemente com foco em performance, escalabilidade e melhores práticas.\n",
    "\n",
    "**Starter code:**"
   ]
  },
  {
   "cell_type": "code",
   "execution_count": null,
   "id": "f0319767",
   "metadata": {},
   "outputs": [],
   "source": [
    "# Código inicial\n",
    "\n",
    "from pyspark.sql import functions as F\n",
    "\n",
    "# TODO: completar\n"
   ]
  },
  {
   "cell_type": "markdown",
   "id": "92e176ef",
   "metadata": {},
   "source": [
    "### Exercício 89: Criar DataFrame a partir de RDD.\n",
    "\n",
    "**Descrição:** Objetivo: Criar DataFrame a partir de RDD.\n",
    "\n",
    "Instruções: implemente com foco em performance, escalabilidade e melhores práticas.\n",
    "\n",
    "**Starter code:**"
   ]
  },
  {
   "cell_type": "code",
   "execution_count": null,
   "id": "72cc1b66",
   "metadata": {},
   "outputs": [],
   "source": [
    "# Código inicial\n",
    "\n",
    "from pyspark.sql import functions as F\n",
    "\n",
    "# TODO: completar\n"
   ]
  },
  {
   "cell_type": "markdown",
   "id": "1fa9f039",
   "metadata": {},
   "source": [
    "### Exercício 90: Converter DataFrame para RDD e vice-versa.\n",
    "\n",
    "**Descrição:** Objetivo: Converter DataFrame para RDD e vice-versa.\n",
    "\n",
    "Instruções: implemente com foco em performance, escalabilidade e melhores práticas.\n",
    "\n",
    "**Starter code:**"
   ]
  },
  {
   "cell_type": "code",
   "execution_count": null,
   "id": "d52e5709",
   "metadata": {},
   "outputs": [],
   "source": [
    "# Código inicial\n",
    "\n",
    "from pyspark.sql import functions as F\n",
    "\n",
    "# TODO: completar\n"
   ]
  },
  {
   "cell_type": "markdown",
   "id": "4a07ee50",
   "metadata": {},
   "source": [
    "### Exercício 91: Usar mapPartitions para processar dados em lote.\n",
    "\n",
    "**Descrição:** Objetivo: Usar mapPartitions para processar dados em lote.\n",
    "\n",
    "Instruções: implemente com foco em performance, escalabilidade e melhores práticas.\n",
    "\n",
    "**Starter code:**"
   ]
  },
  {
   "cell_type": "code",
   "execution_count": null,
   "id": "6e192803",
   "metadata": {},
   "outputs": [],
   "source": [
    "# Código inicial\n",
    "\n",
    "from pyspark.sql import functions as F\n",
    "\n",
    "# TODO: completar\n"
   ]
  },
  {
   "cell_type": "markdown",
   "id": "dc5280e7",
   "metadata": {},
   "source": [
    "### Exercício 92: Usar foreachPartition para ações por partição.\n",
    "\n",
    "**Descrição:** Objetivo: Usar foreachPartition para ações por partição.\n",
    "\n",
    "Instruções: implemente com foco em performance, escalabilidade e melhores práticas.\n",
    "\n",
    "**Starter code:**"
   ]
  },
  {
   "cell_type": "code",
   "execution_count": null,
   "id": "44c6322a",
   "metadata": {},
   "outputs": [],
   "source": [
    "# Código inicial\n",
    "\n",
    "from pyspark.sql import functions as F\n",
    "\n",
    "# TODO: completar\n"
   ]
  },
  {
   "cell_type": "markdown",
   "id": "136495ec",
   "metadata": {},
   "source": [
    "### Exercício 93: Implementar lógica de ETL completo (ingestão → transformação → saída).\n",
    "\n",
    "**Descrição:** Objetivo: Implementar lógica de ETL completo (ingestão → transformação → saída).\n",
    "\n",
    "Instruções: implemente com foco em performance, escalabilidade e melhores práticas.\n",
    "\n",
    "**Starter code:**"
   ]
  },
  {
   "cell_type": "code",
   "execution_count": null,
   "id": "e5b6d6da",
   "metadata": {},
   "outputs": [],
   "source": [
    "# Código inicial\n",
    "\n",
    "from pyspark.sql import functions as F\n",
    "\n",
    "# TODO: completar\n"
   ]
  },
  {
   "cell_type": "markdown",
   "id": "5cbd30b9",
   "metadata": {},
   "source": [
    "### Exercício 94: Integrar PySpark com Delta Lake.\n",
    "\n",
    "**Descrição:** Objetivo: Integrar PySpark com Delta Lake.\n",
    "\n",
    "Instruções: implemente com foco em performance, escalabilidade e melhores práticas.\n",
    "\n",
    "**Starter code:**"
   ]
  },
  {
   "cell_type": "code",
   "execution_count": null,
   "id": "fd4dde33",
   "metadata": {},
   "outputs": [],
   "source": [
    "# Código inicial\n",
    "\n",
    "from pyspark.sql import functions as F\n",
    "\n",
    "# TODO: completar\n"
   ]
  },
  {
   "cell_type": "markdown",
   "id": "6c96f439",
   "metadata": {},
   "source": [
    "### Exercício 95: Criar e ler tabelas Delta.\n",
    "\n",
    "**Descrição:** Objetivo: Criar e ler tabelas Delta.\n",
    "\n",
    "Instruções: implemente com foco em performance, escalabilidade e melhores práticas.\n",
    "\n",
    "**Starter code:**"
   ]
  },
  {
   "cell_type": "code",
   "execution_count": null,
   "id": "81e4c1a4",
   "metadata": {},
   "outputs": [],
   "source": [
    "# Código inicial\n",
    "\n",
    "from pyspark.sql import functions as F\n",
    "\n",
    "# TODO: completar\n"
   ]
  },
  {
   "cell_type": "markdown",
   "id": "acbc8303",
   "metadata": {},
   "source": [
    "### Exercício 96: Usar merge no Delta Lake (UPSERT).\n",
    "\n",
    "**Descrição:** Objetivo: Usar merge no Delta Lake (UPSERT).\n",
    "\n",
    "Instruções: implemente com foco em performance, escalabilidade e melhores práticas.\n",
    "\n",
    "**Starter code:**"
   ]
  },
  {
   "cell_type": "code",
   "execution_count": null,
   "id": "48a595e2",
   "metadata": {},
   "outputs": [],
   "source": [
    "# Código inicial\n",
    "\n",
    "from pyspark.sql import functions as F\n",
    "\n",
    "# TODO: completar\n"
   ]
  },
  {
   "cell_type": "markdown",
   "id": "e54c6573",
   "metadata": {},
   "source": [
    "### Exercício 97: Usar Time Travel no Delta Lake.\n",
    "\n",
    "**Descrição:** Objetivo: Usar Time Travel no Delta Lake.\n",
    "\n",
    "Instruções: implemente com foco em performance, escalabilidade e melhores práticas.\n",
    "\n",
    "**Starter code:**"
   ]
  },
  {
   "cell_type": "code",
   "execution_count": null,
   "id": "caa2f39e",
   "metadata": {},
   "outputs": [],
   "source": [
    "# Código inicial\n",
    "\n",
    "from pyspark.sql import functions as F\n",
    "\n",
    "# TODO: completar\n"
   ]
  },
  {
   "cell_type": "markdown",
   "id": "901f5afa",
   "metadata": {},
   "source": [
    "### Exercício 98: Usar Change Data Feed (Delta Lake).\n",
    "\n",
    "**Descrição:** Objetivo: Usar Change Data Feed (Delta Lake).\n",
    "\n",
    "Instruções: implemente com foco em performance, escalabilidade e melhores práticas.\n",
    "\n",
    "**Starter code:**"
   ]
  },
  {
   "cell_type": "code",
   "execution_count": null,
   "id": "0b1dcecf",
   "metadata": {},
   "outputs": [],
   "source": [
    "# Código inicial\n",
    "\n",
    "from pyspark.sql import functions as F\n",
    "\n",
    "# TODO: completar\n"
   ]
  },
  {
   "cell_type": "markdown",
   "id": "64476b18",
   "metadata": {},
   "source": [
    "### Exercício 99: Criar particionamento por coluna ao salvar dados.\n",
    "\n",
    "**Descrição:** Objetivo: Criar particionamento por coluna ao salvar dados.\n",
    "\n",
    "Instruções: implemente com foco em performance, escalabilidade e melhores práticas.\n",
    "\n",
    "**Starter code:**"
   ]
  },
  {
   "cell_type": "code",
   "execution_count": null,
   "id": "8855aa6a",
   "metadata": {},
   "outputs": [],
   "source": [
    "# Código inicial\n",
    "\n",
    "from pyspark.sql import functions as F\n",
    "\n",
    "# TODO: completar\n"
   ]
  },
  {
   "cell_type": "markdown",
   "id": "16e62c6c",
   "metadata": {},
   "source": [
    "### Exercício 100: Criar bucketização de dados ao salvar.\n",
    "\n",
    "**Descrição:** Objetivo: Criar bucketização de dados ao salvar.\n",
    "\n",
    "Instruções: implemente com foco em performance, escalabilidade e melhores práticas.\n",
    "\n",
    "**Starter code:**"
   ]
  },
  {
   "cell_type": "code",
   "execution_count": null,
   "id": "1be3c763",
   "metadata": {},
   "outputs": [],
   "source": [
    "# Código inicial\n",
    "\n",
    "from pyspark.sql import functions as F\n",
    "\n",
    "# TODO: completar\n"
   ]
  },
  {
   "cell_type": "markdown",
   "id": "5bef0942",
   "metadata": {},
   "source": [
    "### Exercício 101: Trabalhar com arquivos ORC.\n",
    "\n",
    "**Descrição:** Objetivo: Trabalhar com arquivos ORC.\n",
    "\n",
    "Instruções: implemente com foco em performance, escalabilidade e melhores práticas.\n",
    "\n",
    "**Starter code:**"
   ]
  },
  {
   "cell_type": "code",
   "execution_count": null,
   "id": "32c9cdbd",
   "metadata": {},
   "outputs": [],
   "source": [
    "# Código inicial\n",
    "\n",
    "from pyspark.sql import functions as F\n",
    "\n",
    "# TODO: completar\n"
   ]
  },
  {
   "cell_type": "markdown",
   "id": "cfc76532",
   "metadata": {},
   "source": [
    "### Exercício 102: Escrever consultas SQL otimizadas no Spark SQL.\n",
    "\n",
    "**Descrição:** Objetivo: Escrever consultas SQL otimizadas no Spark SQL.\n",
    "\n",
    "Instruções: implemente com foco em performance, escalabilidade e melhores práticas.\n",
    "\n",
    "**Starter code:**"
   ]
  },
  {
   "cell_type": "code",
   "execution_count": null,
   "id": "46c5e1a8",
   "metadata": {},
   "outputs": [],
   "source": [
    "# Código inicial\n",
    "\n",
    "from pyspark.sql import functions as F\n",
    "\n",
    "# TODO: completar\n"
   ]
  },
  {
   "cell_type": "markdown",
   "id": "eca5a654",
   "metadata": {},
   "source": [
    "### Exercício 103: Criar pipeline de dados no PySpark integrado ao Airflow.\n",
    "\n",
    "**Descrição:** Objetivo: Criar pipeline de dados no PySpark integrado ao Airflow.\n",
    "\n",
    "Instruções: implemente com foco em performance, escalabilidade e melhores práticas.\n",
    "\n",
    "**Starter code:**"
   ]
  },
  {
   "cell_type": "code",
   "execution_count": null,
   "id": "d0100752",
   "metadata": {},
   "outputs": [],
   "source": [
    "# Código inicial\n",
    "\n",
    "from pyspark.sql import functions as F\n",
    "\n",
    "# TODO: completar\n"
   ]
  },
  {
   "cell_type": "markdown",
   "id": "f5003563",
   "metadata": {},
   "source": [
    "### Exercício 104: Ler streaming de dados de um diretório.\n",
    "\n",
    "**Descrição:** Objetivo: Ler streaming de dados de um diretório.\n",
    "\n",
    "Instruções: implemente com foco em performance, escalabilidade e melhores práticas.\n",
    "\n",
    "**Starter code:**"
   ]
  },
  {
   "cell_type": "code",
   "execution_count": null,
   "id": "90973b4b",
   "metadata": {},
   "outputs": [],
   "source": [
    "# Código inicial\n",
    "\n",
    "from pyspark.sql import functions as F\n",
    "\n",
    "# TODO: completar\n"
   ]
  },
  {
   "cell_type": "markdown",
   "id": "64141e29",
   "metadata": {},
   "source": [
    "### Exercício 105: Escrever streaming para Kafka.\n",
    "\n",
    "**Descrição:** Objetivo: Escrever streaming para Kafka.\n",
    "\n",
    "Instruções: implemente com foco em performance, escalabilidade e melhores práticas.\n",
    "\n",
    "**Starter code:**"
   ]
  },
  {
   "cell_type": "code",
   "execution_count": null,
   "id": "d01e5811",
   "metadata": {},
   "outputs": [],
   "source": [
    "# Código inicial\n",
    "\n",
    "from pyspark.sql import functions as F\n",
    "\n",
    "# TODO: completar\n"
   ]
  },
  {
   "cell_type": "markdown",
   "id": "e1e6e6a9",
   "metadata": {},
   "source": [
    "### Exercício 106: Ler streaming do Kafka.\n",
    "\n",
    "**Descrição:** Objetivo: Ler streaming do Kafka.\n",
    "\n",
    "Instruções: implemente com foco em performance, escalabilidade e melhores práticas.\n",
    "\n",
    "**Starter code:**"
   ]
  },
  {
   "cell_type": "code",
   "execution_count": null,
   "id": "f2b95b32",
   "metadata": {},
   "outputs": [],
   "source": [
    "# Código inicial\n",
    "\n",
    "from pyspark.sql import functions as F\n",
    "\n",
    "# TODO: completar\n"
   ]
  },
  {
   "cell_type": "markdown",
   "id": "d9194645",
   "metadata": {},
   "source": [
    "### Exercício 107: Criar agregações em streaming.\n",
    "\n",
    "**Descrição:** Objetivo: Criar agregações em streaming.\n",
    "\n",
    "Instruções: implemente com foco em performance, escalabilidade e melhores práticas.\n",
    "\n",
    "**Starter code:**"
   ]
  },
  {
   "cell_type": "code",
   "execution_count": null,
   "id": "6c1c0b60",
   "metadata": {},
   "outputs": [],
   "source": [
    "# Código inicial\n",
    "\n",
    "from pyspark.sql import functions as F\n",
    "\n",
    "# TODO: completar\n"
   ]
  },
  {
   "cell_type": "markdown",
   "id": "075538ba",
   "metadata": {},
   "source": [
    "### Exercício 108: Fazer checkpoint de streaming.\n",
    "\n",
    "**Descrição:** Objetivo: Fazer checkpoint de streaming.\n",
    "\n",
    "Instruções: implemente com foco em performance, escalabilidade e melhores práticas.\n",
    "\n",
    "**Starter code:**"
   ]
  },
  {
   "cell_type": "code",
   "execution_count": null,
   "id": "e29dc9d2",
   "metadata": {},
   "outputs": [],
   "source": [
    "# Código inicial\n",
    "\n",
    "from pyspark.sql import functions as F\n",
    "\n",
    "# TODO: completar\n"
   ]
  },
  {
   "cell_type": "markdown",
   "id": "11a67f70",
   "metadata": {},
   "source": [
    "### Exercício 109: Criar alerta quando dado de streaming atende condição.\n",
    "\n",
    "**Descrição:** Objetivo: Criar alerta quando dado de streaming atende condição.\n",
    "\n",
    "Instruções: implemente com foco em performance, escalabilidade e melhores práticas.\n",
    "\n",
    "**Starter code:**"
   ]
  },
  {
   "cell_type": "code",
   "execution_count": null,
   "id": "b6bb2269",
   "metadata": {},
   "outputs": [],
   "source": [
    "# Código inicial\n",
    "\n",
    "from pyspark.sql import functions as F\n",
    "\n",
    "# TODO: completar\n"
   ]
  },
  {
   "cell_type": "markdown",
   "id": "baf9f378",
   "metadata": {},
   "source": [
    "### Exercício 110: Integrar PySpark com MLlib para regressão linear.\n",
    "\n",
    "**Descrição:** Objetivo: Integrar PySpark com MLlib para regressão linear.\n",
    "\n",
    "Instruções: implemente com foco em performance, escalabilidade e melhores práticas.\n",
    "\n",
    "**Starter code:**"
   ]
  },
  {
   "cell_type": "code",
   "execution_count": null,
   "id": "18e8d3a4",
   "metadata": {},
   "outputs": [],
   "source": [
    "# Código inicial\n",
    "\n",
    "from pyspark.sql import functions as F\n",
    "\n",
    "# TODO: completar\n"
   ]
  },
  {
   "cell_type": "markdown",
   "id": "9bd331e4",
   "metadata": {},
   "source": [
    "### Exercício 111: Treinar modelo de classificação com MLlib.\n",
    "\n",
    "**Descrição:** Objetivo: Treinar modelo de classificação com MLlib.\n",
    "\n",
    "Instruções: implemente com foco em performance, escalabilidade e melhores práticas.\n",
    "\n",
    "**Starter code:**"
   ]
  },
  {
   "cell_type": "code",
   "execution_count": null,
   "id": "c9a76dd0",
   "metadata": {},
   "outputs": [],
   "source": [
    "# Código inicial\n",
    "\n",
    "from pyspark.sql import functions as F\n",
    "\n",
    "# TODO: completar\n"
   ]
  },
  {
   "cell_type": "markdown",
   "id": "a8c03bda",
   "metadata": {},
   "source": [
    "### Exercício 112: Fazer previsão com modelo treinado.\n",
    "\n",
    "**Descrição:** Objetivo: Fazer previsão com modelo treinado.\n",
    "\n",
    "Instruções: implemente com foco em performance, escalabilidade e melhores práticas.\n",
    "\n",
    "**Starter code:**"
   ]
  },
  {
   "cell_type": "code",
   "execution_count": null,
   "id": "5b0a5e6b",
   "metadata": {},
   "outputs": [],
   "source": [
    "# Código inicial\n",
    "\n",
    "from pyspark.sql import functions as F\n",
    "\n",
    "# TODO: completar\n"
   ]
  },
  {
   "cell_type": "markdown",
   "id": "148272af",
   "metadata": {},
   "source": [
    "### Exercício 113: Avaliar modelo usando métricas (BinaryClassificationEvaluator).\n",
    "\n",
    "**Descrição:** Objetivo: Avaliar modelo usando métricas (BinaryClassificationEvaluator).\n",
    "\n",
    "Instruções: implemente com foco em performance, escalabilidade e melhores práticas.\n",
    "\n",
    "**Starter code:**"
   ]
  },
  {
   "cell_type": "code",
   "execution_count": null,
   "id": "1bbfc29e",
   "metadata": {},
   "outputs": [],
   "source": [
    "# Código inicial\n",
    "\n",
    "from pyspark.sql import functions as F\n",
    "\n",
    "# TODO: completar\n"
   ]
  },
  {
   "cell_type": "markdown",
   "id": "b126ded6",
   "metadata": {},
   "source": [
    "### Exercício 114: Criar pipeline de ML com stages no PySpark.\n",
    "\n",
    "**Descrição:** Objetivo: Criar pipeline de ML com stages no PySpark.\n",
    "\n",
    "Instruções: implemente com foco em performance, escalabilidade e melhores práticas.\n",
    "\n",
    "**Starter code:**"
   ]
  },
  {
   "cell_type": "code",
   "execution_count": null,
   "id": "885814be",
   "metadata": {},
   "outputs": [],
   "source": [
    "# Código inicial\n",
    "\n",
    "from pyspark.sql import functions as F\n",
    "\n",
    "# TODO: completar\n"
   ]
  },
  {
   "cell_type": "markdown",
   "id": "06459718",
   "metadata": {},
   "source": [
    "### Exercício 115: Salvar e carregar modelo treinado.\n",
    "\n",
    "**Descrição:** Objetivo: Salvar e carregar modelo treinado.\n",
    "\n",
    "Instruções: implemente com foco em performance, escalabilidade e melhores práticas.\n",
    "\n",
    "**Starter code:**"
   ]
  },
  {
   "cell_type": "code",
   "execution_count": null,
   "id": "093b1151",
   "metadata": {},
   "outputs": [],
   "source": [
    "# Código inicial\n",
    "\n",
    "from pyspark.sql import functions as F\n",
    "\n",
    "# TODO: completar\n"
   ]
  },
  {
   "cell_type": "markdown",
   "id": "f104a7bd",
   "metadata": {},
   "source": [
    "# Processamento de Dados"
   ]
  },
  {
   "cell_type": "markdown",
   "id": "33d70586",
   "metadata": {},
   "source": [
    "##### Spark Session"
   ]
  },
  {
   "cell_type": "code",
   "execution_count": null,
   "id": "5e300a3a",
   "metadata": {},
   "outputs": [
    {
     "name": "stdout",
     "output_type": "stream",
     "text": [
      "<pyspark.sql.session.SparkSession object at 0x0000013A7F8FC1A0>\n",
      "3.5.4\n"
     ]
    }
   ],
   "source": [
    "from pyspark.sql import SparkSession\n",
    "from pyspark.sql import functions\n",
    "\n",
    "spark = SparkSession.builder \\\n",
    "    .appName (\"ReadFile\") \\\n",
    "    .master(\"local[*]\") \\\n",
    "    .getOrCreate()\n",
    "\n",
    "print(spark)\n",
    "print(spark.version)"
   ]
  },
  {
   "cell_type": "markdown",
   "id": "f2e70046",
   "metadata": {},
   "source": [
    "##### Data Ingestion"
   ]
  },
  {
   "cell_type": "code",
   "execution_count": null,
   "id": "0a8a4fbd",
   "metadata": {},
   "outputs": [],
   "source": [
    "import requests\n",
    "\n",
    "url = \"http://127.0.0.1:8000/dados\"\n",
    "\n",
    "# Enviar a API Key no header\n",
    "headers = {\n",
    "    \"X-API-KEY\": \"minha_chave_super_secreta\"\n",
    "}\n",
    "\n",
    "response = requests.get(url, headers=headers)"
   ]
  },
  {
   "cell_type": "code",
   "execution_count": 15,
   "id": "fa564384",
   "metadata": {},
   "outputs": [
    {
     "name": "stdout",
     "output_type": "stream",
     "text": [
      "+------------+--------------------+--------------------+--------------------+---------+--------------------+--------------------+--------------------+----+--------------------+\n",
      "|id_empregado|        primeiroNome|            nomeMeio|          ultimoNome|NameStyle|      dataNascimento|               Email|            Telefone|Sexo|        Departamento|\n",
      "+------------+--------------------+--------------------+--------------------+---------+--------------------+--------------------+--------------------+----+--------------------+\n",
      "|           1|Guy              ...|R                ...|Gilbert          ...|        N|1981/11/12 00:00:...|guy1@adventure-wo...|320-555-0195     ...|   M|Production       ...|\n",
      "|           2|Kevin            ...|F                ...|Brown            ...|        N|1986/12/01 00:00:...|kevin0@adventure-...|150-555-0189     ...|   M|Marketing        ...|\n",
      "|           3|Roberto          ...|                 ...|Tamburello       ...|        N|1974/06/12 00:00:...|roberto0@adventur...|212-555-0187     ...|   M|Engineering      ...|\n",
      "|           4|Rob              ...|                 ...|Walters          ...|        N|1974/07/23 00:00:...|rob0@adventure-wo...|612-555-0100     ...|   M|Tool Design      ...|\n",
      "|           5|Rob              ...|                 ...|Walters          ...|        N|1974/07/23 00:00:...|rob0@adventure-wo...|612-555-0100     ...|   M|Tool Design      ...|\n",
      "|           6|Thierry          ...|B                ...|D'Hers           ...|        N|1959/02/26 00:00:...|thierry0@adventur...|168-555-0183     ...|   M|Tool Design      ...|\n",
      "|           7|David            ...|M                ...|Bradley          ...|        N|1974/10/17 00:00:...|david0@adventure-...|913-555-0172     ...|   M|Marketing        ...|\n",
      "|           8|David            ...|M                ...|Bradley          ...|        N|1974/10/17 00:00:...|david0@adventure-...|913-555-0172     ...|   M|Marketing        ...|\n",
      "|           9|JoLynn           ...|M                ...|Dobney           ...|        N|1955/08/16 00:00:...|jolynn0@adventure...|903-555-0145     ...|   F|Production       ...|\n",
      "|          10|Ruth             ...|Ann              ...|Ellerbrock       ...|        N|1956/01/03 00:00:...|ruth0@adventure-w...|145-555-0130     ...|   F|Production       ...|\n",
      "|          11|Gail             ...|A                ...|Erickson         ...|        N|1952/04/27 00:00:...|gail0@adventure-w...|849-555-0139     ...|   F|Engineering      ...|\n",
      "|          12|Barry            ...|K                ...|Johnson          ...|        N|1955/10/25 00:00:...|barry0@adventure-...|206-555-0180     ...|   M|Production       ...|\n",
      "|          13|Jossef           ...|H                ...|Goldberg         ...|        N|1958/10/09 00:00:...|jossef0@adventure...|122-555-0189     ...|   M|Engineering      ...|\n",
      "|          14|Terri            ...|Lee              ...|Duffy            ...|        N|1971/03/01 00:00:...|terri0@adventure-...|819-555-0175     ...|   F|Engineering      ...|\n",
      "|          15|Sidney           ...|M                ...|Higa             ...|        N|1956/03/30 00:00:...|sidney0@adventure...|424-555-0189     ...|   M|Production       ...|\n",
      "|          16|Taylor           ...|R                ...|Maxwell          ...|        N|1955/10/31 00:00:...|taylor0@adventure...|508-555-0165     ...|   M|Production       ...|\n",
      "|          17|Jeffrey          ...|L                ...|Ford             ...|        N|1956/02/09 00:00:...|jeffrey0@adventur...|984-555-0185     ...|   M|Production       ...|\n",
      "|          18|Jo               ...|A                ...|Brown            ...|        N|1956/05/08 00:00:...|jo0@adventure-wor...|632-555-0129     ...|   F|Production       ...|\n",
      "|          19|Doris            ...|M                ...|Hartwig          ...|        N|1955/11/03 00:00:...|doris0@adventure-...|328-555-0150     ...|   F|Production       ...|\n",
      "|          20|John             ...|T                ...|Campbell         ...|        N|1956/03/07 00:00:...|john0@adventure-w...|435-555-0113     ...|   M|Production       ...|\n",
      "+------------+--------------------+--------------------+--------------------+---------+--------------------+--------------------+--------------------+----+--------------------+\n",
      "only showing top 20 rows\n",
      "\n"
     ]
    }
   ],
   "source": [
    "df = spark.read \\\n",
    "    .option(\"header\", True) \\\n",
    "    .option(\"delimiter\", \";\") \\\n",
    "    .option (\"inferSchema\", True) \\\n",
    "    .option(\"encoding\", \"UTF-8\") \\\n",
    "    .csv(\"colaboradores.csv\")\n",
    " # ou \"ISO-8859-1\", \"latin1\"\n",
    "df.show()"
   ]
  },
  {
   "cell_type": "markdown",
   "id": "fdea485a",
   "metadata": {},
   "source": [
    "##### Data Processing"
   ]
  },
  {
   "cell_type": "code",
   "execution_count": null,
   "id": "93e18132",
   "metadata": {},
   "outputs": [],
   "source": []
  }
 ],
 "metadata": {
  "kernelspec": {
   "display_name": "Python 3",
   "language": "python",
   "name": "python3"
  },
  "language_info": {
   "codemirror_mode": {
    "name": "ipython",
    "version": 3
   },
   "file_extension": ".py",
   "mimetype": "text/x-python",
   "name": "python",
   "nbconvert_exporter": "python",
   "pygments_lexer": "ipython3",
   "version": "3.12.8"
  }
 },
 "nbformat": 4,
 "nbformat_minor": 5
}
