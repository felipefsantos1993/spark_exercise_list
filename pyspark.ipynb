{
 "cells": [
  {
   "cell_type": "markdown",
   "id": "d34b412b",
   "metadata": {},
   "source": [
    "# Exercícios Detalhados - Tópico 1: Configuração e Introdução"
   ]
  },
  {
   "cell_type": "markdown",
   "id": "dec69318",
   "metadata": {},
   "source": [
    "### Exercício 1\n",
    "Enunciado:\n",
    "\n",
    "Crie uma sessão Spark (SparkSession) em PySpark com o nome da aplicação “ExercicioPySpark1”.\n",
    "\n",
    "Dica: Utilize SparkSession.builder.appName(...).getOrCreate()."
   ]
  },
  {
   "cell_type": "markdown",
   "id": "6416c3db",
   "metadata": {},
   "source": [
    "### Exercício 2\n",
    "Enunciado:\n",
    "\n",
    "Crie um DataFrame a partir da lista abaixo contendo informações de pessoas (nome, idade e cidade):\n",
    "\n",
    "dados = [(\"Maria\", 30, \"São Paulo\"), (\"João\", 25, \"Rio de Janeiro\"), (\"Ana\", 28, \"Curitiba\")]\n",
    "\n",
    "Defina o schema explicitamente com os tipos corretos.\n"
   ]
  },
  {
   "cell_type": "markdown",
   "id": "056bc931",
   "metadata": {},
   "source": [
    "### Exercício 3\n",
    "Enunciado:\n",
    "\n",
    "Carregue um arquivo CSV chamado clientes.csv que contém as colunas: id, nome, idade, cidade.\n",
    "Implemente a leitura ignorando a primeira linha (header), considerando que os campos são separados por vírgula."
   ]
  },
  {
   "cell_type": "markdown",
   "id": "62c47f7c",
   "metadata": {},
   "source": [
    "### Exercício 4\n",
    "Enunciado:\n",
    "\n",
    "Mostre o esquema (schema) do DataFrame criado no exercício anterior. Explique cada tipo de dado."
   ]
  },
  {
   "cell_type": "markdown",
   "id": "20049522",
   "metadata": {},
   "source": [
    "### Exercício 5\n",
    "Enunciado:\n",
    "\n",
    "Exiba as primeiras 5 linhas do DataFrame criado no exercício 2, sem usar a função show().\n",
    "\n",
    "Dica: Utilize o método .take(5) e imprima as linhas."
   ]
  },
  {
   "cell_type": "markdown",
   "id": "f0f7df42",
   "metadata": {},
   "source": [
    "### Exercício 6\n",
    "Enunciado:\n",
    "\n",
    "Conte o número total de registros do DataFrame criado no exercício 3."
   ]
  },
  {
   "cell_type": "markdown",
   "id": "7240e23e",
   "metadata": {},
   "source": [
    "### Exercício 7\n",
    "Enunciado:\n",
    "\n",
    "Salve o DataFrame do exercício 2 em um arquivo Parquet no diretório saida/parquet_ex1."
   ]
  },
  {
   "cell_type": "markdown",
   "id": "6a2e365b",
   "metadata": {},
   "source": [
    "### Exercício 8\n",
    "Enunciado:\n",
    "\n",
    "Leia o arquivo Parquet criado no exercício anterior e mostre as 3 primeiras linhas."
   ]
  },
  {
   "cell_type": "markdown",
   "id": "2c13e61c",
   "metadata": {},
   "source": [
    "# Exercícios Detalhados – Tópico 2: Manipulação Básica de DataFrames"
   ]
  },
  {
   "cell_type": "markdown",
   "id": "d5899dd3",
   "metadata": {},
   "source": [
    "### Exercício 9\n",
    "Enunciado:\n",
    "\n",
    "Dado o DataFrame criado no exercício 2 (com colunas nome, idade, cidade), selecione apenas a coluna nome e mostre os valores distintos."
   ]
  },
  {
   "cell_type": "markdown",
   "id": "ebd8d9e1",
   "metadata": {},
   "source": [
    "### Exercício 10\n",
    "Enunciado:\n",
    "\n",
    "Filtre o DataFrame do exercício 2 para mostrar apenas as pessoas com idade maior que 27 anos."
   ]
  },
  {
   "cell_type": "markdown",
   "id": "b19f6efd",
   "metadata": {},
   "source": [
    "### Exercício 11\n",
    "Enunciado:\n",
    "\n",
    "Ordene o DataFrame do exercício 2 pela coluna idade em ordem decrescente e exiba o resultado."
   ]
  },
  {
   "cell_type": "markdown",
   "id": "148e9c3d",
   "metadata": {},
   "source": [
    "### Exercício 12\n",
    "Enunciado:\n",
    "\n",
    "Adicione uma nova coluna chamada idade_mais_5 que contenha o valor da coluna idade acrescido de 5."
   ]
  },
  {
   "cell_type": "markdown",
   "id": "3a1e6706",
   "metadata": {},
   "source": [
    "### Exercício 13\n",
    "Enunciado:\n",
    "\n",
    "Renomeie a coluna cidade para municipio no DataFrame do exercício 2 e exiba o novo esquema."
   ]
  },
  {
   "cell_type": "markdown",
   "id": "6cd0396f",
   "metadata": {},
   "source": [
    "### Exercício 14\n",
    "Enunciado:\n",
    "\n",
    "Remova a coluna municipio do DataFrame modificado no exercício 13."
   ]
  },
  {
   "cell_type": "markdown",
   "id": "e10e22c8",
   "metadata": {},
   "source": [
    "### Exercício 15\n",
    "Enunciado:\n",
    "\n",
    "Considere o DataFrame abaixo, que contém valores nulos:\n",
    "\n",
    "dados = [(\"Carlos\", None, \"Belo Horizonte\"), (\"Luiza\", 32, None), (\"Pedro\", 40, \"Fortaleza\")]\n",
    "schema = [\"nome\", \"idade\", \"cidade\"]\n",
    "\n",
    "Crie um DataFrame com esses dados e remova as linhas que possuem algum valor nulo."
   ]
  },
  {
   "cell_type": "markdown",
   "id": "07f7a340",
   "metadata": {},
   "source": [
    "### Exercício 16\n",
    "Enunciado:\n",
    "\n",
    "No mesmo DataFrame do exercício anterior, substitua os valores nulos da coluna idade por 0 e da coluna cidade por \"Desconhecida\"."
   ]
  },
  {
   "cell_type": "markdown",
   "id": "b3bcd191",
   "metadata": {},
   "source": [
    "### Exercício 17\n",
    "Enunciado:\n",
    "\n",
    "Exiba um resumo estatístico (mean, stddev, min, max) da coluna idade do DataFrame criado no exercício 2."
   ]
  },
  {
   "cell_type": "markdown",
   "id": "e079fc6b",
   "metadata": {},
   "source": [
    "### Exercício 18\n",
    "Enunciado:\n",
    "\n",
    "Conte quantos nomes distintos existem no DataFrame do exercício 2."
   ]
  },
  {
   "cell_type": "markdown",
   "id": "b5699115",
   "metadata": {},
   "source": [
    "### Exercício 19\n",
    "Enunciado:\n",
    "\n",
    "Remova as linhas duplicadas (baseado em todas as colunas) do DataFrame do exercício 2 e exiba o resultado."
   ]
  },
  {
   "cell_type": "markdown",
   "id": "1737f17b",
   "metadata": {},
   "source": [
    "### Exercício 20\n",
    "Enunciado:\n",
    "Utilizando o DataFrame do exercício 2, crie uma nova coluna chamada faixa_idade que seja:\n",
    "\n",
    " - \"Jovem\" se a idade for menor que 30\n",
    "\n",
    " - \"Adulto\" caso contrário\n",
    "\n",
    "Utilize funções condicionais (when/otherwise)."
   ]
  },
  {
   "cell_type": "markdown",
   "id": "a80abab3",
   "metadata": {},
   "source": [
    "# Exercícios Detalhados – Tópico 3: Funções e Transformações"
   ]
  },
  {
   "cell_type": "markdown",
   "id": "76aab7ba",
   "metadata": {},
   "source": [
    "### Exercício 21\n",
    "Enunciado:\n",
    "\n",
    "No DataFrame do exercício 2, crie uma nova coluna chamada nome_maiusculo que contenha os nomes em letras maiúsculas, usando funções nativas do PySpark."
   ]
  },
  {
   "cell_type": "markdown",
   "id": "4b300abc",
   "metadata": {},
   "source": [
    "### Exercício 22\n",
    "Enunciado:\n",
    "\n",
    "Extraia os três primeiros caracteres da coluna cidade e crie uma nova coluna chamada sigla_cidade."
   ]
  },
  {
   "cell_type": "markdown",
   "id": "790d12b9",
   "metadata": {},
   "source": [
    "### Exercício 23\n",
    "Enunciado:\n",
    "\n",
    "Concatene as colunas nome e cidade separadas por vírgula em uma nova coluna chamada nome_cidade."
   ]
  },
  {
   "cell_type": "markdown",
   "id": "3674f3f1",
   "metadata": {},
   "source": [
    "### Exercício 24\n",
    "Enunciado:\n",
    "\n",
    "Crie uma view temporária do DataFrame do exercício 2 chamada pessoas_view e escreva uma consulta SQL para selecionar todas as pessoas com idade maior que 26."
   ]
  },
  {
   "cell_type": "markdown",
   "id": "9518bd2b",
   "metadata": {},
   "source": [
    "### Exercício 25\n",
    "Enunciado:\n",
    "\n",
    "Exploda a seguinte coluna de array no DataFrame abaixo, de modo que cada elemento vire uma linha separada:\n",
    "\n",
    "dados = [(\"Lucas\", [\"maçã\", \"banana\"]), (\"Marina\", [\"laranja\"])]\n",
    "schema = [\"nome\", \"frutas\"]"
   ]
  },
  {
   "cell_type": "markdown",
   "id": "9e9358d7",
   "metadata": {},
   "source": [
    "### Exercício 26\n",
    "Enunciado:\n",
    "\n",
    "Converta a coluna string de datas no formato \"yyyy-MM-dd\" para timestamp e crie uma nova coluna data_timestamp. Use o DataFrame abaixo:\n",
    "\n",
    "dados = [(\"Ana\", \"2023-04-01\"), (\"Bruno\", \"2024-01-15\")]\n",
    "schema = [\"nome\", \"data\"]"
   ]
  },
  {
   "cell_type": "markdown",
   "id": "9f11baa4",
   "metadata": {},
   "source": [
    "### Exercício 27\n",
    "Enunciado:\n",
    "\n",
    "Utilize a função SQL length para calcular o tamanho da string da coluna nome e crie uma coluna chamada tamanho_nome."
   ]
  },
  {
   "cell_type": "markdown",
   "id": "27c9501e",
   "metadata": {},
   "source": [
    "### Exercício 28\n",
    "Enunciado:\n",
    "\n",
    "Use a função substring para extrair os caracteres da posição 2 até a 4 da coluna nome e crie uma nova coluna chamada sub_nome."
   ]
  },
  {
   "cell_type": "markdown",
   "id": "8c2e9834",
   "metadata": {},
   "source": [
    "### Exercício 29\n",
    "Enunciado:\n",
    "\n",
    "Mostre os nomes de pessoas cujo nome começa com a letra “M”, usando funções do PySpark para manipulação de strings."
   ]
  },
  {
   "cell_type": "markdown",
   "id": "5f44cc5b",
   "metadata": {},
   "source": [
    "### Exercício 30\n",
    "Enunciado:\n",
    "\n",
    "Utilize a função concat_ws para juntar as colunas nome e cidade separadas por hífen, em uma nova coluna chamada nome_cidade_hifen."
   ]
  },
  {
   "cell_type": "markdown",
   "id": "ec3d09a2",
   "metadata": {},
   "source": [
    "# Exercícios Detalhados – Tópico 4: Joins e Agregações"
   ]
  }
 ],
 "metadata": {
  "language_info": {
   "name": "python"
  }
 },
 "nbformat": 4,
 "nbformat_minor": 5
}
