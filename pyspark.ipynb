{
 "cells": [
  {
   "cell_type": "markdown",
   "id": "d34b412b",
   "metadata": {},
   "source": [
    "# Exercícios Detalhados - Tópico 1: Configuração e Introdução"
   ]
  },
  {
   "cell_type": "markdown",
   "id": "dec69318",
   "metadata": {},
   "source": [
    "### Exercício 1\n",
    "Enunciado:\n",
    "\n",
    "Crie uma sessão Spark (SparkSession) em PySpark com o nome da aplicação “ExercicioPySpark1”.\n",
    "\n",
    "Dica: Utilize SparkSession.builder.appName(...).getOrCreate()."
   ]
  },
  {
   "cell_type": "markdown",
   "id": "6416c3db",
   "metadata": {},
   "source": [
    "### Exercício 2\n",
    "Enunciado:\n",
    "\n",
    "Crie um DataFrame a partir da lista abaixo contendo informações de pessoas (nome, idade e cidade):\n",
    "\n",
    "dados = [(\"Maria\", 30, \"São Paulo\"), (\"João\", 25, \"Rio de Janeiro\"), (\"Ana\", 28, \"Curitiba\")]\n",
    "\n",
    "Defina o schema explicitamente com os tipos corretos.\n"
   ]
  },
  {
   "cell_type": "markdown",
   "id": "056bc931",
   "metadata": {},
   "source": [
    "### Exercício 3\n",
    "Enunciado:\n",
    "\n",
    "Carregue um arquivo CSV chamado clientes.csv que contém as colunas: id, nome, idade, cidade.\n",
    "Implemente a leitura ignorando a primeira linha (header), considerando que os campos são separados por vírgula."
   ]
  },
  {
   "cell_type": "markdown",
   "id": "62c47f7c",
   "metadata": {},
   "source": [
    "### Exercício 4\n",
    "Enunciado:\n",
    "\n",
    "Mostre o esquema (schema) do DataFrame criado no exercício anterior. Explique cada tipo de dado."
   ]
  },
  {
   "cell_type": "markdown",
   "id": "20049522",
   "metadata": {},
   "source": [
    "### Exercício 5\n",
    "Enunciado:\n",
    "\n",
    "Exiba as primeiras 5 linhas do DataFrame criado no exercício 2, sem usar a função show().\n",
    "\n",
    "Dica: Utilize o método .take(5) e imprima as linhas."
   ]
  },
  {
   "cell_type": "markdown",
   "id": "f0f7df42",
   "metadata": {},
   "source": [
    "### Exercício 6\n",
    "Enunciado:\n",
    "\n",
    "Conte o número total de registros do DataFrame criado no exercício 3."
   ]
  },
  {
   "cell_type": "markdown",
   "id": "7240e23e",
   "metadata": {},
   "source": [
    "### Exercício 7\n",
    "Enunciado:\n",
    "\n",
    "Salve o DataFrame do exercício 2 em um arquivo Parquet no diretório saida/parquet_ex1."
   ]
  },
  {
   "cell_type": "markdown",
   "id": "6a2e365b",
   "metadata": {},
   "source": [
    "### Exercício 8\n",
    "Enunciado:\n",
    "\n",
    "Leia o arquivo Parquet criado no exercício anterior e mostre as 3 primeiras linhas."
   ]
  },
  {
   "cell_type": "markdown",
   "id": "2c13e61c",
   "metadata": {},
   "source": [
    "# Exercícios Detalhados – Tópico 2: Manipulação Básica de DataFrames"
   ]
  },
  {
   "cell_type": "markdown",
   "id": "d5899dd3",
   "metadata": {},
   "source": [
    "### Exercício 9\n",
    "Enunciado:\n",
    "\n",
    "Dado o DataFrame criado no exercício 2 (com colunas nome, idade, cidade), selecione apenas a coluna nome e mostre os valores distintos."
   ]
  },
  {
   "cell_type": "markdown",
   "id": "ebd8d9e1",
   "metadata": {},
   "source": []
  }
 ],
 "metadata": {
  "language_info": {
   "name": "python"
  }
 },
 "nbformat": 4,
 "nbformat_minor": 5
}
